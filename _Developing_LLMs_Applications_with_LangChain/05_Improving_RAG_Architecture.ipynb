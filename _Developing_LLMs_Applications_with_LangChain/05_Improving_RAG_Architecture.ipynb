{
 "cells": [
  {
   "cell_type": "markdown",
   "id": "e14f8f92",
   "metadata": {},
   "source": [
    "# **🔷🔷Improving the RAG Architecture🔷🔷**"
   ]
  },
  {
   "cell_type": "markdown",
   "id": "d45ea4d2",
   "metadata": {},
   "source": [
    "## **⭐01: Loading Markdown Files**"
   ]
  },
  {
   "cell_type": "code",
   "execution_count": null,
   "id": "97e2d883",
   "metadata": {},
   "outputs": [],
   "source": [
    "from langchain_community.document_loaders import UnstructuredMarkdownLoader\n",
    "\n",
    "loader = UnstructuredMarkdownLoader(\"README.md\")\n",
    "markdown_content = loader.load()\n",
    "print(markdown_content[0])"
   ]
  },
  {
   "cell_type": "markdown",
   "id": "9058ded6",
   "metadata": {},
   "source": [
    "## **⭐02: Loading Python Files**"
   ]
  },
  {
   "cell_type": "code",
   "execution_count": null,
   "id": "61660089",
   "metadata": {},
   "outputs": [],
   "source": [
    "from langchain_community.document_loaders import PythonLoader\n",
    "\n",
    "loader = PythonLoader('chatbot.py')\n",
    "python_data = loader.load()\n",
    "print(python_data[0])"
   ]
  },
  {
   "cell_type": "markdown",
   "id": "7b749624",
   "metadata": {},
   "source": [
    "## **⭐03: Splitting Code Files**"
   ]
  },
  {
   "cell_type": "code",
   "execution_count": null,
   "id": "5aead694",
   "metadata": {},
   "outputs": [],
   "source": [
    "from langchain_text_splitters import RecursiveCharacterTextSplitter\n",
    "\n",
    "python_splitter = RecursiveCharacterTextSplitter(\n",
    "    chunk_size=150, chunk_overlap=10\n",
    ")\n",
    "\n",
    "chunks = python_splitter.split_documents(python_data)\n",
    "for i, chunk in enumerate(chunks[:3]):\n",
    "    print(f\"Chunk {i+1}:\\n{chunk.page_content}\\n\")"
   ]
  },
  {
   "cell_type": "markdown",
   "id": "76c5cb61",
   "metadata": {},
   "source": [
    "## **⭐04: Language-Specific Splitting**"
   ]
  },
  {
   "cell_type": "code",
   "execution_count": null,
   "id": "f11cc0d3",
   "metadata": {},
   "outputs": [],
   "source": [
    "from langchain_text_splitters import RecursiveCharacterTextSplitter, Language\n",
    "\n",
    "python_splitter = RecursiveCharacterTextSplitter.from_language(\n",
    "    language=Language.PYTHON,\n",
    "    chunk_size=150,\n",
    "    chunk_overlap=10\n",
    ")\n",
    "\n",
    "chunks = python_splitter.split_documents(python_data)\n",
    "for i, chunk in enumerate(chunks[:3]):\n",
    "    print(f\"Chunk {i+1}:\\n{chunk.page_content}\\n\")"
   ]
  },
  {
   "cell_type": "markdown",
   "id": "03c1d551",
   "metadata": {},
   "source": [
    "## **⭐05:Token-Based Splitting**"
   ]
  },
  {
   "cell_type": "code",
   "execution_count": null,
   "id": "a315dcd4",
   "metadata": {},
   "outputs": [],
   "source": [
    "import tiktoken\n",
    "from langchain_text_splitters import TokenTextSplitter\n",
    "\n",
    "example_string = \"Mary had a little lamb, it's fleece was white as snow.\"\n",
    "encoding = tiktoken.encoding_for_model('gpt-4o-mini')\n",
    "splitter = TokenTextSplitter(\n",
    "    encoding_name=encoding.name,\n",
    "    chunk_size=10,\n",
    "    chunk_overlap=2\n",
    ")\n",
    "\n",
    "chunks = splitter.split_text(example_string)\n",
    "for i, chunk in enumerate(chunks):\n",
    "    print(f\"Chunk {i+1}:\\n{chunk}\\n\")"
   ]
  },
  {
   "cell_type": "code",
   "execution_count": null,
   "id": "ef0707d9",
   "metadata": {},
   "outputs": [],
   "source": [
    "# Count tokens in each chunk\n",
    "for i, chunk in enumerate(chunks):\n",
    "    print(f\"Chunk {i+1}:\\nNo. tokens: {len(encoding.encode(chunk))}\\n{chunk}\\n\")"
   ]
  },
  {
   "cell_type": "markdown",
   "id": "fda16844",
   "metadata": {},
   "source": [
    "## **⭐06: Semantic Splitting**"
   ]
  },
  {
   "cell_type": "code",
   "execution_count": null,
   "id": "26f49e33",
   "metadata": {},
   "outputs": [],
   "source": [
    "from langchain_openai import OpenAIEmbeddings\n",
    "from langchain_experimental.text_splitter import SemanticChunker\n",
    "\n",
    "embeddings = OpenAIEmbeddings(api_key=\"...\", model='text-embedding-3-small')\n",
    "\n",
    "semantic_splitter = SemanticChunker(\n",
    "    embeddings=embeddings,\n",
    "    breakpoint_threshold_type=\"gradient\",\n",
    "    breakpoint_threshold_amount=0.8\n",
    ")\n",
    "\n",
    "chunks = semantic_splitter.split_documents(python_data)\n",
    "print(chunks[0])"
   ]
  },
  {
   "cell_type": "markdown",
   "id": "64112413",
   "metadata": {},
   "source": [
    "# 🧩 ***Full code***"
   ]
  }
 ],
 "metadata": {
  "language_info": {
   "name": "python"
  }
 },
 "nbformat": 4,
 "nbformat_minor": 5
}
