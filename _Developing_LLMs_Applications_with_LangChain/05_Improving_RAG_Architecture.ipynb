{
 "cells": [
  {
   "cell_type": "markdown",
   "id": "e14f8f92",
   "metadata": {},
   "source": [
    "# **🔷🔷Improving the RAG Architecture🔷🔷**"
   ]
  },
  {
   "cell_type": "markdown",
   "id": "7f4a1f11",
   "metadata": {},
   "source": [
    "Discover state-of-the-art techniques for loading, splitting, and retrieving documents, including loading Python files, splitting semantically, and using MRR and self-query retrieval methods. Learn to evaluate your RAG architecture using robust metrics and frameworks."
   ]
  },
  {
   "cell_type": "markdown",
   "id": "319202c0",
   "metadata": {},
   "source": [
    "## **⭐01: Loading and Splitting code files**"
   ]
  },
  {
   "cell_type": "markdown",
   "id": "b728f428",
   "metadata": {},
   "source": [
    "This is useful for integrating codebases into RAG systems—for tasks like code `summarization`, `documentation generation`, or `code assistance`."
   ]
  },
  {
   "cell_type": "markdown",
   "id": "d45ea4d2",
   "metadata": {},
   "source": [
    "### **⭕Loading Markdown Files**"
   ]
  },
  {
   "cell_type": "code",
   "execution_count": null,
   "id": "97e2d883",
   "metadata": {},
   "outputs": [
    {
     "name": "stdout",
     "output_type": "stream",
     "text": [
      "GenAI with Langchain and Huggingface 🤗\n",
      "\n",
      "This repository serves as a comprehensive guide for integrating Langchain with Huggingface models, enabling you to build, deploy, and optimize cutting-edge AI applications through hands-on projects and real-world examples.\n",
      "\n",
      "GenAI Overview\n",
      "\n",
      "Overview of Generative AI Pipeline\n",
      "\n",
      "author\n",
      "\n",
      "Python 3.9+\n",
      "\n",
      "Streamlit\n",
      "\n",
      "Ollama\n",
      "\n",
      "LangChain\n",
      "\n",
      "HuggingFace\n",
      "\n",
      "License: MIT\n",
      "\n",
      "Table of Contents\n",
      "\n",
      "GenAI with Langchain and Huggingface 🤗\n",
      "\n",
      "Table of Contents\n",
      "\n",
      "Overview\n",
      "\n",
      "Key Features\n",
      "\n",
      "Types of Generative AI\n",
      "\n",
      "Supported Model Types\n",
      "\n",
      "⭐Builder's Perspective\n",
      "\n",
      "1. Foundation Model Architecture\n",
      "\n",
      "2. Model Training Pipeline\n",
      "\n",
      "3. Data Processing\n",
      "\n",
      "4. Model Architecture\n",
      "\n",
      "5. Training Infrastructure\n",
      "\n",
      "6. Deployment Strategy\n",
      "\n",
      "⭐User's Perspective\n",
      "\n",
      "1. Interface Design\n",
      "\n",
      "2. User Interaction\n",
      "\n",
      "3. Response Generation\n",
      "\n",
      "4. System Integration\n",
      "\n",
      "5. Performance Metrics\n",
      "\n",
      "Installation\n",
      "\n",
      "Getting Started\n",
      "\n",
      "Examples\n",
      "\n",
      "Contributing\n",
      "\n",
      "⚖ ➤ License\n",
      "\n",
      "❤️ Support\n",
      "\n",
      "🪙Credits and Inspiration\n",
      "\n",
      "🔗Connect with me\n",
      "\n",
      "Overview\n",
      "\n",
      "This repository demonstrates the power of combining Langchain's composability with Huggingface's state-of-the-art models. We provide comprehensive examples and implementations for various Generative AI applications, from text generation to multimodal systems.\n",
      "\n",
      "Key Features\n",
      "\n",
      "🔗 Langchain Integration: Seamless integration with Langchain's powerful components\n",
      "\n",
      "🤗 Huggingface Models: Access to cutting-edge pre-trained models\n",
      "\n",
      "📚 Comprehensive Examples: Detailed notebooks and use cases\n",
      "\n",
      "🛠️ Production-Ready Code: Optimized implementations for real-world applications\n",
      "\n",
      "📈 Performance Metrics: Detailed analysis and benchmarking tools\n",
      "\n",
      "Types of Generative AI\n",
      "\n",
      "Types of Generative AI\n",
      "\n",
      "Different Types of Generative AI Models and Their Applications\n",
      "\n",
      "Supported Model Types\n",
      "\n",
      "Text Generation Models\n",
      "\n",
      "GPT-based models\n",
      "\n",
      "T5 variants\n",
      "\n",
      "BERT derivatives\n",
      "\n",
      "Image Generation\n",
      "\n",
      "Stable Diffusion\n",
      "\n",
      "DALL-E integration\n",
      "\n",
      "Midjourney-like implementations\n",
      "\n",
      "Audio Processing\n",
      "\n",
      "Speech-to-Text\n",
      "\n",
      "Text-to-Speech\n",
      "\n",
      "Audio Generation\n",
      "\n",
      "⭐Builder's Perspective\n",
      "\n",
      "1. Foundation Model Architecture\n",
      "\n",
      "Foundation Model\n",
      "\n",
      "2. Model Training Pipeline\n",
      "\n",
      "Training Pipeline\n",
      "\n",
      "3. Data Processing\n",
      "\n",
      "Data Processing\n",
      "\n",
      "4. Model Architecture\n",
      "\n",
      "Model Architecture\n",
      "\n",
      "5. Training Infrastructure\n",
      "\n",
      "Training Infrastructure\n",
      "\n",
      "6. Deployment Strategy\n",
      "\n",
      "Deployment Strategy\n",
      "\n",
      "⭐User's Perspective\n",
      "\n",
      "1. Interface Design\n",
      "\n",
      "Interface Design\n",
      "\n",
      "2. User Interaction\n",
      "\n",
      "User Interaction\n",
      "\n",
      "3. Response Generation\n",
      "\n",
      "Response Generation\n",
      "\n",
      "4. System Integration\n",
      "\n",
      "System Integration\n",
      "\n",
      "5. Performance Metrics\n",
      "\n",
      "Performance Metrics\n",
      "\n",
      "Installation\n",
      "\n",
      "```bash\n",
      "\n",
      "Clone the repository\n",
      "\n",
      "git clone https://github.com/mohd-faizy/GenAI-with-Langchain-and-Huggingface.git\n",
      "\n",
      "Navigate to the project directory\n",
      "\n",
      "cd GenAI-with-Langchain-and-Huggingface\n",
      "\n",
      "Create and activate virtual environment\n",
      "\n",
      "python -m venv venv source venv/bin/activate # On Windows: venv\\Scripts\\activate\n",
      "\n",
      "Install required packages\n",
      "\n",
      "pip install -r requirements.txt\n",
      "\n",
      "```\n",
      "\n",
      "Getting Started\n",
      "\n",
      "```python from langchain import LLMChain from transformers import AutoModelForCausalLM, AutoTokenizer\n",
      "\n",
      "Initialize model and tokenizer\n",
      "\n",
      "model_name = \"gpt2\" tokenizer = AutoTokenizer.from_pretrained(model_name) model = AutoModelForCausalLM.from_pretrained(model_name)\n",
      "\n",
      "Create a simple chain\n",
      "\n",
      "chain = LLMChain( llm=model, prompt_template=\"Write a story about {topic}\" )\n",
      "\n",
      "Run the chain\n",
      "\n",
      "result = chain.run(topic=\"space exploration\") print(result) ```\n",
      "\n",
      "Examples\n",
      "\n",
      "Check our examples directory for complete implementations: - Text Generation Pipeline - Image Generation with Stable Diffusion - Question Answering Systems - Document Analysis - Chatbot Implementation\n",
      "\n",
      "Contributing\n",
      "\n",
      "Fork the repository\n",
      "\n",
      "Create your feature branch (git checkout -b feature/AmazingFeature)\n",
      "\n",
      "Commit your changes (git commit -m 'Add some AmazingFeature')\n",
      "\n",
      "Push to the branch (git push origin feature/AmazingFeature)\n",
      "\n",
      "Open a Pull Request\n",
      "\n",
      "⚖ ➤ License\n",
      "\n",
      "This project is licensed under the MIT License. See the LICENSE file for details.\n",
      "\n",
      "❤️ Support\n",
      "\n",
      "If you find this repository helpful, show your support by starring it! For questions or feedback, reach out on Twitter(X).\n",
      "\n",
      "🪙Credits and Inspiration\n",
      "\n",
      "This repository is inspired by the excellent course content created by Nitish on the CampusX YouTube channel & DataCamps Course Developing LLMs with LangChain. The implementation and examples in this repository are based on his comprehensive tutorials on Generative AI with Langchain and Huggingface.\n",
      "\n",
      "🔗Connect with me\n",
      "\n",
      "➤ If you have questions or feedback, feel free to reach out!!!\n",
      "\n",
      "\n",
      "\n",
      "\n",
      "\n",
      "\n",
      "\n",
      "\n",
      "{'source': 'E:\\\\01_Github_Repo\\\\GenAI-with-Langchain-and-Huggingface\\\\README.md'}\n"
     ]
    }
   ],
   "source": [
    "from langchain_community.document_loaders import UnstructuredMarkdownLoader\n",
    "\n",
    "PATH = r\"E:\\01_Github_Repo\\GenAI-with-Langchain-and-Huggingface\\README.md\"\n",
    "\n",
    "loader = UnstructuredMarkdownLoader(file_path=PATH)\n",
    "markdown_content = loader.load()\n",
    "\n",
    "print(markdown_content[0].page_content)  # Print the content of the first document\n",
    "print(markdown_content[0].metadata)      # Print the metadata of the first document"
   ]
  },
  {
   "cell_type": "markdown",
   "id": "9058ded6",
   "metadata": {},
   "source": [
    "### **⭕Loading Python Files**"
   ]
  },
  {
   "cell_type": "code",
   "execution_count": 23,
   "id": "61660089",
   "metadata": {},
   "outputs": [
    {
     "name": "stdout",
     "output_type": "stream",
     "text": [
      "page_content='from abc import ABC, abstractmethod\n",
      "\n",
      "# Abstract base class for all LLMs\n",
      "class LLM(ABC):\n",
      "    @abstractmethod\n",
      "    def complete_sentence(self, prompt):\n",
      "        pass\n",
      "\n",
      "# Concrete implementations of LLM\n",
      "class OpenAI(LLM):\n",
      "    def complete_sentence(self, prompt):\n",
      "        return prompt + \" ... OpenAI end of sentence.\"\n",
      "\n",
      "class Anthropic(LLM):\n",
      "    def complete_sentence(self, prompt):\n",
      "        return prompt + \" ... Anthropic end of sentence.\"\n",
      "\n",
      "class GooglePaLM(LLM):\n",
      "    def complete_sentence(self, prompt):\n",
      "        return prompt + \" ... Google PaLM end of sentence.\"\n",
      "\n",
      "class Cohere(LLM):\n",
      "    def complete_sentence(self, prompt):\n",
      "        return prompt + \" ... Cohere end of sentence.\"\n",
      "\n",
      "class Mistral(LLM):\n",
      "    def complete_sentence(self, prompt):\n",
      "        return prompt + \" ... Mistral end of sentence.\"\n",
      "\n",
      "class CustomLLM(LLM):\n",
      "    def complete_sentence(self, prompt):\n",
      "        suffix = \" ... CustomLLM generated response.\"\n",
      "        return prompt + suffix\n",
      "\n",
      "# Test function to run all LLMs\n",
      "def test_llms():\n",
      "    prompt = \"The future of AI is\"\n",
      "    llms = [OpenAI(), Anthropic(), GooglePaLM(), Cohere(), Mistral(), CustomLLM()]\n",
      "    for llm in llms:\n",
      "        print(f\"{llm.__class__.__name__}: {llm.complete_sentence(prompt)}\")\n",
      "\n",
      "# Only run if script is executed directly\n",
      "if __name__ == \"__main__\":\n",
      "    test_llms()\n",
      "' metadata={'source': 'E:\\\\01_Github_Repo\\\\GenAI-with-Langchain-and-Huggingface\\\\_Developing_LLMs_Applications_with_LangChain\\\\_data\\\\pyfile.py'}\n"
     ]
    }
   ],
   "source": [
    "from langchain_community.document_loaders import PythonLoader\n",
    "\n",
    "PATH = r\"E:\\01_Github_Repo\\GenAI-with-Langchain-and-Huggingface\\_Developing_LLMs_Applications_with_LangChain\\_data\\pyfile.py\"\n",
    "\n",
    "loader = PythonLoader(file_path=PATH)\n",
    "python_data = loader.load()\n",
    "\n",
    "print(python_data[0])"
   ]
  },
  {
   "cell_type": "markdown",
   "id": "7b749624",
   "metadata": {},
   "source": [
    "### **⭕Splitting Code Files**"
   ]
  },
  {
   "cell_type": "code",
   "execution_count": null,
   "id": "5aead694",
   "metadata": {},
   "outputs": [
    {
     "name": "stdout",
     "output_type": "stream",
     "text": [
      "Chunk 1:\n",
      "from abc import ABC, abstractmethod\n",
      "\n",
      "Chunk 2:\n",
      "# Abstract base class for all LLMs\n",
      "class LLM(ABC):\n",
      "    @abstractmethod\n",
      "    def complete_sentence(self, prompt):\n",
      "        pass\n",
      "\n",
      "Chunk 3:\n",
      "# Concrete implementations of LLM\n",
      "class OpenAI(LLM):\n",
      "    def complete_sentence(self, prompt):\n",
      "        return prompt + \" ... OpenAI end of sentence.\"\n",
      "\n"
     ]
    }
   ],
   "source": [
    "from langchain_text_splitters import RecursiveCharacterTextSplitter\n",
    "\n",
    "python_splitter = RecursiveCharacterTextSplitter(\n",
    "    chunk_size=150,\n",
    "    chunk_overlap=10\n",
    "    )\n",
    "\n",
    "chunks = python_splitter.split_documents(python_data)\n",
    "for i, chunk in enumerate(chunks[:3]):\n",
    "    print(f\"Chunk {i+1}:\\n{chunk.page_content}\\n\")"
   ]
  },
  {
   "cell_type": "markdown",
   "id": "76c5cb61",
   "metadata": {},
   "source": [
    "### **⭕Language-Specific Splitting**"
   ]
  },
  {
   "cell_type": "markdown",
   "id": "b3dc9a26",
   "metadata": {},
   "source": [
    "- Instead of naive splitting, LangChain can split code using language-aware separators like:\n",
    "\n",
    "  - `\\nclass`, `\\ndef` , `\\n\\tdef` \n",
    "\n",
    "- This ensures that each chunk is a logical code unit—such as an entire function or class—rather than arbitrary lines.\n",
    "\n",
    "- Especially beneficial for code analysis or generation, as it maintains semantic structure."
   ]
  },
  {
   "cell_type": "code",
   "execution_count": null,
   "id": "f11cc0d3",
   "metadata": {},
   "outputs": [
    {
     "name": "stdout",
     "output_type": "stream",
     "text": [
      "Chunk 1:\n",
      "from abc import ABC, abstractmethod\n",
      "\n",
      "# Abstract base class for all LLMs\n",
      "\n",
      "Chunk 2:\n",
      "class LLM(ABC):\n",
      "    @abstractmethod\n",
      "    def complete_sentence(self, prompt):\n",
      "        pass\n",
      "\n",
      "# Concrete implementations of LLM\n",
      "\n",
      "Chunk 3:\n",
      "class OpenAI(LLM):\n",
      "    def complete_sentence(self, prompt):\n",
      "        return prompt + \" ... OpenAI end of sentence.\"\n",
      "\n"
     ]
    }
   ],
   "source": [
    "from langchain_text_splitters import RecursiveCharacterTextSplitter, Language\n",
    "\n",
    "python_splitter = RecursiveCharacterTextSplitter.from_language(\n",
    "    language=Language.PYTHON,\n",
    "    chunk_size=150,\n",
    "    chunk_overlap=10\n",
    ")\n",
    "\n",
    "chunks = python_splitter.split_documents(python_data)\n",
    "\n",
    "for i, chunk in enumerate(chunks[:3]):\n",
    "    print(f\"Chunk {i+1}:\\n{chunk.page_content}\\n\")"
   ]
  },
  {
   "cell_type": "markdown",
   "id": "17fdffdb",
   "metadata": {},
   "source": [
    "## **⭐02:Advanced Splitting Methods**"
   ]
  },
  {
   "cell_type": "markdown",
   "id": "054a87ff",
   "metadata": {},
   "source": [
    "⚠️ **Limitations of Basic Splitting**\n",
    "\n",
    "- **Lack of Context Awareness:** Simple character-based splitting might break a function or paragraph in unnatural places, reducing model performance.\n",
    "\n",
    "- **Mismatch with Model Processing:** Since LLMs process tokens, character limits may not align with model capabilities, leading to token overflow or inefficient use of input space."
   ]
  },
  {
   "cell_type": "markdown",
   "id": "03c1d551",
   "metadata": {},
   "source": [
    "### **⭕Token-Based Splitting**"
   ]
  },
  {
   "cell_type": "markdown",
   "id": "b3d1d162",
   "metadata": {},
   "source": [
    "- Splits are calculated by token count, which aligns with how LLMs consume input.\n",
    "- This ensures each chunk fits within the model’s token limit and avoids truncation.\n",
    "- Prevents loss of meaning due to mid-token splits."
   ]
  },
  {
   "cell_type": "code",
   "execution_count": 16,
   "id": "a315dcd4",
   "metadata": {},
   "outputs": [
    {
     "name": "stdout",
     "output_type": "stream",
     "text": [
      "Chunk 1:\n",
      "Mary had a little lamb, it's fleece was white\n",
      "\n",
      "Chunk 2:\n",
      " was white as snow.\n",
      "\n"
     ]
    }
   ],
   "source": [
    "import tiktoken\n",
    "from langchain_text_splitters import TokenTextSplitter\n",
    "\n",
    "example_string = \"Mary had a little lamb, it's fleece was white as snow.\"\n",
    "encoding = tiktoken.encoding_for_model('gpt-4o-mini')\n",
    "splitter = TokenTextSplitter(\n",
    "    encoding_name=encoding.name,\n",
    "    chunk_size=10,\n",
    "    chunk_overlap=2\n",
    ")\n",
    "\n",
    "chunks = splitter.split_text(example_string)\n",
    "for i, chunk in enumerate(chunks):\n",
    "    print(f\"Chunk {i+1}:\\n{chunk}\\n\")"
   ]
  },
  {
   "cell_type": "code",
   "execution_count": 17,
   "id": "ef0707d9",
   "metadata": {},
   "outputs": [
    {
     "name": "stdout",
     "output_type": "stream",
     "text": [
      "Chunk 1:\n",
      "No. tokens: 10\n",
      "Mary had a little lamb, it's fleece was white\n",
      "\n",
      "Chunk 2:\n",
      "No. tokens: 5\n",
      " was white as snow.\n",
      "\n"
     ]
    }
   ],
   "source": [
    "# Count tokens in each chunk\n",
    "for i, chunk in enumerate(chunks):\n",
    "    print(f\"Chunk {i+1}:\\nNo. tokens: {len(encoding.encode(chunk))}\\n{chunk}\\n\")"
   ]
  },
  {
   "cell_type": "markdown",
   "id": "fda16844",
   "metadata": {},
   "source": [
    "### **⭕Semantic Splitting**"
   ]
  },
  {
   "cell_type": "markdown",
   "id": "4eade434",
   "metadata": {},
   "source": [
    "- Uses embedding models to understand the content and split based on semantic boundaries (logical breakpoints in meaning).\n",
    "\n",
    "- Employs gradient thresholding to decide where one idea ends and another begins.\n",
    "\n",
    "- Produces coherent, context-rich chunks that enhance downstream task accuracy (like answering or summarizing)."
   ]
  },
  {
   "cell_type": "code",
   "execution_count": 25,
   "id": "26f49e33",
   "metadata": {},
   "outputs": [
    {
     "name": "stdout",
     "output_type": "stream",
     "text": [
      "page_content='from abc import ABC, abstractmethod\n",
      "\n",
      "# Abstract base class for all LLMs\n",
      "class LLM(ABC):\n",
      "    @abstractmethod\n",
      "    def complete_sentence(self, prompt):\n",
      "        pass\n",
      "\n",
      "# Concrete implementations of LLM\n",
      "class OpenAI(LLM):\n",
      "    def complete_sentence(self, prompt):\n",
      "        return prompt + \" ...' metadata={'source': 'E:\\\\01_Github_Repo\\\\GenAI-with-Langchain-and-Huggingface\\\\_Developing_LLMs_Applications_with_LangChain\\\\_data\\\\pyfile.py'}\n"
     ]
    }
   ],
   "source": [
    "from dotenv import load_dotenv\n",
    "from langchain_google_genai import GoogleGenerativeAIEmbeddings, ChatGoogleGenerativeAI  \n",
    "from langchain_experimental.text_splitter import SemanticChunker\n",
    "\n",
    "load_dotenv()\n",
    "\n",
    "# Initialize Google embedding model\n",
    "embeddings = GoogleGenerativeAIEmbeddings(model=\"models/embedding-001\")\n",
    "\n",
    "semantic_splitter = SemanticChunker(\n",
    "    embeddings=embeddings,\n",
    "    breakpoint_threshold_type=\"gradient\",\n",
    "    breakpoint_threshold_amount=0.8\n",
    ")\n",
    "\n",
    "chunks = semantic_splitter.split_documents(python_data)\n",
    "print(chunks[0])"
   ]
  },
  {
   "cell_type": "markdown",
   "id": "ec763bcc",
   "metadata": {},
   "source": [
    "## **⭐03: Optimizing document retrieval**"
   ]
  },
  {
   "cell_type": "markdown",
   "id": "179d32dd",
   "metadata": {},
   "source": [
    "### 🔍 **Dense vs. Sparse Retrieval in RAG Pipelines**\n"
   ]
  },
  {
   "cell_type": "markdown",
   "id": "b62c849e",
   "metadata": {},
   "source": [
    "When building Retrieval-Augmented Generation (RAG) systems—like those in LangChain—you typically choose between **dense** and **sparse** retrieval methods.\n",
    "\n",
    "- 🧪 **Dense Retrieval**\n",
    "  -  Uses neural networks (e.g., transformers) to encode documents and queries into **dense vectors**—compact numerical representations that capture meaning.\n",
    "  -  Relevance is measured via **vector similarity** (like cosine similarity or dot product).\n",
    "  - `Pros.` Vs `Cons.`:\n",
    "     - **✅ Pros:**\n",
    "       - Captures **semantic meaning**—good with synonyms, paraphrasing, and abstract queries.\n",
    "       - Powerful for **open-domain** or fuzzy information retrieval.\n",
    "     - **⚠️ Cons:**\n",
    "       -  Requires **expensive training** and GPU-based inference.\n",
    "       -  Harder to **interpret** why a document was retrieved.\n",
    "\n",
    "\n",
    "-  📚 **Sparse Retrieval**\n",
    "   - Based on **keyword matching** using traditional IR methods.\n",
    "   - Works with **bag-of-words** models—each word is treated separately and sparsely.\n",
    "   - **Common Techniques**:\n",
    "      -  **TF-IDF** (*Term Frequency–Inverse Document Frequency*):\n",
    "         - Measures how important a word is to a document.\n",
    "         - > If a term appears often in one document but rarely across others, it gets a higher score.\n",
    "      - **BM25** (*Best Matching 25*):\n",
    "        - An advanced ranking function in the Okapi family.\n",
    "        - > It refines TF-IDF by adjusting for **term frequency saturation** and **document length**.\n",
    "     - `Pros.` Vs `Cons.`:\n",
    "       - **✅ Pros:**\n",
    "         -  **Fast**, resource-efficient, and easy to **interpret**.\n",
    "         -  Great for **rare terms** and exact keyword matches.\n",
    "       - **⚠️ Cons:**\n",
    "         -  Struggles with **synonyms** or **semantic similarity**.\n",
    "         -  Can miss documents that are relevant but use **different wording**.\n"
   ]
  },
  {
   "cell_type": "markdown",
   "id": "70d4beab",
   "metadata": {},
   "source": [
    "### 🧠 **TF-IDF vs. BM25: Quick Comparison**"
   ]
  },
  {
   "cell_type": "markdown",
   "id": "7ea47dfc",
   "metadata": {},
   "source": [
    "| Feature           | TF-IDF                                 | BM25                                    |\n",
    "| ----------------- | -------------------------------------- | --------------------------------------- |\n",
    "| Scoring Basis     | Term frequency × inverse document freq | Improved term weighting with saturation |\n",
    "| Handles Long Docs | ❌ No                                   | ✅ Yes                                   |\n",
    "| Customizable      | Limited                                | ✅ Adjustable with `k1` and `b` params   |\n",
    "| Used In           | Classic search engines, baseline NLP   | Modern IR, LangChain RAG pipelines      |\n",
    "\n",
    "\n",
    "\n",
    "- 🛠️ **In LangChain Pipelines**\n",
    "  - **`BM25` is often preferred** over `TF-IDF` because it:\n",
    "    - Handles **longer documents** better.\n",
    "    - Reduces over-penalization for **repeated keywords**.\n",
    "    - Generally provides more **balanced scoring**."
   ]
  },
  {
   "cell_type": "markdown",
   "id": "51c39e79",
   "metadata": {},
   "source": [
    "## **⭐04: Introduction to RAG evaluation**"
   ]
  },
  {
   "cell_type": "code",
   "execution_count": null,
   "id": "39bd0e6d",
   "metadata": {},
   "outputs": [],
   "source": []
  },
  {
   "cell_type": "markdown",
   "id": "64112413",
   "metadata": {},
   "source": [
    "# 🧩 ***Full code***"
   ]
  },
  {
   "cell_type": "code",
   "execution_count": null,
   "id": "5204d9b6",
   "metadata": {},
   "outputs": [],
   "source": []
  }
 ],
 "metadata": {
  "kernelspec": {
   "display_name": "venv",
   "language": "python",
   "name": "python3"
  },
  "language_info": {
   "codemirror_mode": {
    "name": "ipython",
    "version": 3
   },
   "file_extension": ".py",
   "mimetype": "text/x-python",
   "name": "python",
   "nbconvert_exporter": "python",
   "pygments_lexer": "ipython3",
   "version": "3.11.9"
  }
 },
 "nbformat": 4,
 "nbformat_minor": 5
}
