{
 "cells": [
  {
   "cell_type": "markdown",
   "id": "893949ac",
   "metadata": {},
   "source": [
    "# **🔷🔷Introduction to Graph RAG🔷🔷**"
   ]
  },
  {
   "cell_type": "markdown",
   "id": "20d6be86",
   "metadata": {},
   "source": [
    "Discover how graph databases and retrieval can overcome some of the limitations of traditional vector-based storage and retrieval."
   ]
  },
  {
   "cell_type": "markdown",
   "id": "e2f49db4",
   "metadata": {},
   "source": [
    "## **⭐01: From vectors to graphs**"
   ]
  },
  {
   "cell_type": "markdown",
   "id": "6c005cf9",
   "metadata": {},
   "source": [
    "### **⭕**"
   ]
  },
  {
   "cell_type": "code",
   "execution_count": null,
   "id": "81b2ee35",
   "metadata": {},
   "outputs": [],
   "source": []
  },
  {
   "cell_type": "markdown",
   "id": "c4c2af2a",
   "metadata": {},
   "source": [
    "## **⭐02: Storing and Querying documents**"
   ]
  },
  {
   "cell_type": "markdown",
   "id": "e26c3d06",
   "metadata": {},
   "source": [
    "### **⭕**"
   ]
  },
  {
   "cell_type": "code",
   "execution_count": null,
   "id": "1147f425",
   "metadata": {},
   "outputs": [],
   "source": []
  },
  {
   "cell_type": "code",
   "execution_count": null,
   "id": "81772d4f",
   "metadata": {},
   "outputs": [],
   "source": []
  },
  {
   "cell_type": "markdown",
   "id": "fbbd9ef1",
   "metadata": {},
   "source": [
    "## **⭐03: Creating the RAG Chain**"
   ]
  },
  {
   "cell_type": "markdown",
   "id": "373fb3ae",
   "metadata": {},
   "source": [
    "### **⭕**"
   ]
  },
  {
   "cell_type": "code",
   "execution_count": null,
   "id": "039199f2",
   "metadata": {},
   "outputs": [],
   "source": []
  },
  {
   "cell_type": "markdown",
   "id": "2132cd25",
   "metadata": {},
   "source": [
    "## **⭐04: Improving Graph Retrieval**"
   ]
  },
  {
   "cell_type": "markdown",
   "id": "40f7c9ea",
   "metadata": {},
   "source": [
    "### **⭕**"
   ]
  },
  {
   "cell_type": "code",
   "execution_count": null,
   "id": "e4367815",
   "metadata": {},
   "outputs": [],
   "source": []
  },
  {
   "cell_type": "markdown",
   "id": "d9e69a8f",
   "metadata": {},
   "source": [
    "# 🧩 ***Oth-code***"
   ]
  },
  {
   "cell_type": "code",
   "execution_count": null,
   "id": "d9fa3c1f",
   "metadata": {},
   "outputs": [],
   "source": []
  }
 ],
 "metadata": {
  "language_info": {
   "name": "python"
  }
 },
 "nbformat": 4,
 "nbformat_minor": 5
}
