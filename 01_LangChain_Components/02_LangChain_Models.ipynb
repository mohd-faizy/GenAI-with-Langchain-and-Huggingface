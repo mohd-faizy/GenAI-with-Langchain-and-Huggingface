{
  "cells": [
    {
      "cell_type": "markdown",
      "metadata": {
        "id": "Ww9lx_9aYWKb"
      },
      "source": [
        "#🔗 **LangChain Models**"
      ]
    },
    {
      "cell_type": "markdown",
      "metadata": {
        "id": "A-na9z83Br_h"
      },
      "source": [
        "## **Installing  Necessary Libraries**"
      ]
    },
    {
      "cell_type": "code",
      "execution_count": null,
      "metadata": {
        "colab": {
          "base_uri": "https://localhost:8080/"
        },
        "id": "HUrEdjoaZIfc",
        "outputId": "d784d1a2-99ce-4615-affc-1ac4409ac85a"
      },
      "outputs": [
        {
          "name": "stdout",
          "output_type": "stream",
          "text": [
            "\u001b[?25l   \u001b[90m━━━━━━━━━━━━━━━━━━━━━━━━━━━━━━━━━━━━━━━━\u001b[0m \u001b[32m0.0/1.3 MB\u001b[0m \u001b[31m?\u001b[0m eta \u001b[36m-:--:--\u001b[0m\r\u001b[2K   \u001b[90m━━━━━━━━━━━━━━━━━━━━━━━━━━━━━━━━━━━━━━━━\u001b[0m \u001b[32m1.3/1.3 MB\u001b[0m \u001b[31m46.9 MB/s\u001b[0m eta \u001b[36m0:00:00\u001b[0m\n",
            "\u001b[?25h\u001b[31mERROR: pip's dependency resolver does not currently take into account all the packages that are installed. This behaviour is the source of the following dependency conflicts.\n",
            "langchain-google-genai 2.1.4 requires google-ai-generativelanguage<0.7.0,>=0.6.18, but you have google-ai-generativelanguage 0.6.15 which is incompatible.\u001b[0m\u001b[31m\n",
            "\u001b[0m"
          ]
        }
      ],
      "source": [
        "# ======================================\n",
        "# LangChain Core Components\n",
        "# ======================================\n",
        "!pip install -q langchain             # Main LangChain library for building LLM applications\n",
        "!pip install -q langchain-core        # Core abstractions used across LangChain integrations\n",
        "!pip install -q langchain-community   # Community-contributed integrations and utilities\n",
        "\n",
        "# ======================================\n",
        "# OpenAI Integration\n",
        "# ======================================\n",
        "!pip install -q langchain-openai      # LangChain interface for OpenAI models (e.g., GPT-4, GPT-3.5)\n",
        "!pip install -q openai                # Official OpenAI Python SDK\n",
        "\n",
        "# ======================================\n",
        "# Anthropic Integration\n",
        "# ======================================\n",
        "!pip install -q langchain-anthropic   # LangChain interface for Anthropic's Claude models\n",
        "!pip install -q anthropic             # Official Anthropic SDK\n",
        "\n",
        "# ======================================\n",
        "# Google Gemini Integration\n",
        "# ======================================\n",
        "!pip install -q langchain-google-genai  # LangChain integration for Google Gemini\n",
        "!pip install -q google-generativeai     # Google’s official SDK for Gemini models\n",
        "\n",
        "# ======================================\n",
        "# Hugging Face Integration\n",
        "# ======================================\n",
        "!pip install -q langchain-huggingface  # LangChain integration for Hugging Face models and pipelines\n",
        "!pip install -q transformers           # Transformers library for using pre-trained models\n",
        "!pip install -q huggingface-hub        # For accessing models from the Hugging Face Hub\n",
        "!pip install -q torch                  # PyTorch backend required by many Hugging Face models\n",
        "\n",
        "# ======================================\n",
        "# Environment Configuration\n",
        "# ======================================\n",
        "!pip install -q python-dotenv          # Load environment variables from a .env file\n",
        "\n",
        "# ======================================\n",
        "# Machine Learning Utilities\n",
        "# ======================================\n",
        "!pip install -q numpy                  # Numerical computations and array operations\n",
        "!pip install -q scikit-learn           # Tools for model evaluation and classical ML techniques\n",
        "\n",
        "# ======================================\n",
        "# Additional Required Dependencies\n",
        "# ======================================\n",
        "!pip install -q pydantic               # Data validation and settings management (used by LangChain)\n",
        "!pip install -q typing-extensions      # Backports for typing improvements across Python versions\n",
        "!pip install -q requests               # Simple HTTP library for making API calls"
      ]
    },
    {
      "cell_type": "markdown",
      "metadata": {
        "id": "faNC4FvyYsvF"
      },
      "source": [
        "## **01 - LLMs**"
      ]
    },
    {
      "cell_type": "code",
      "execution_count": null,
      "metadata": {
        "id": "Jqt3rr_GaFNi"
      },
      "outputs": [],
      "source": [
        "from langchain_openai import OpenAI     # Import OpenAI LLM wrapper\n",
        "from dotenv import load_dotenv          # Load environment variables\n",
        "\n",
        "load_dotenv()                           # Load variables from .env (e.g., API key)\n",
        "\n",
        "llm = OpenAI(model='gpt-3.5-turbo-instruct')         # Initialize LLM with instruct-style model\n",
        "result = llm.invoke(\"What is the capital of India\")  # Run prompt through model\n",
        "\n",
        "print(result)"
      ]
    },
    {
      "cell_type": "markdown",
      "metadata": {
        "id": "61htqqinYvgE"
      },
      "source": [
        "## **02 - ChatModels**"
      ]
    },
    {
      "cell_type": "markdown",
      "metadata": {
        "id": "hLV5XQKjBDRL"
      },
      "source": [
        "### 🔷 **a) OpenAI**"
      ]
    },
    {
      "cell_type": "markdown",
      "metadata": {
        "id": "SL4vPg6s_meB"
      },
      "source": [
        "🧪 **Example Usage:**\n",
        "\n",
        "```python\n",
        "llm = ChatOpenAI(\n",
        "    model=\"gpt-4o\",\n",
        "    temperature=0.7,\n",
        "    max_tokens=300,\n",
        "    streaming=True,\n",
        "    api_key=\"your-api-key\"\n",
        ")\n",
        "\n",
        "> Add blockquote\n",
        "\n",
        "\n",
        "```\n",
        "\n",
        "| Feature                | Type               | Description                                                                |\n",
        "| ---------------------- | ------------------ | -------------------------------------------------------------------------- |\n",
        "| `model` / `model_name` | `str`              | Name of the OpenAI model (e.g., `\"gpt-3.5-turbo\"`, `\"gpt-4\"`, `\"gpt-4o\"`). |\n",
        "| `temperature`          | `float`            | Controls randomness in output (0 = deterministic, 2 = creative).           |\n",
        "| `max_tokens`           | `int`              | Limits the length of the generated response.                               |\n",
        "| `top_p`                | `float`            | Controls diversity via nucleus sampling (used with temperature).           |\n",
        "| `frequency_penalty`    | `float`            | Penalizes frequent tokens (to reduce repetition).                          |\n",
        "| `presence_penalty`     | `float`            | Encourages discussing new topics.                                          |\n",
        "| `n`                    | `int`              | Number of completions to generate (default: 1).                            |\n",
        "| `stop`                 | `str` or `list`    | Stop generation when these tokens are found.                               |\n",
        "| `streaming`            | `bool`             | If `True`, enables streaming responses.                                    |\n",
        "| `api_key`              | `str`              | OpenAI API key.                                                            |\n",
        "| `organization`         | `str`              | OpenAI organization ID (optional).                                         |\n",
        "| `timeout`              | `float`            | Timeout for the request in seconds.                                        |\n",
        "| `max_retries`          | `int`              | Number of retry attempts if request fails.                                 |\n",
        "| `request_timeout`      | `float` or `tuple` | Timeout for requests (alias for `timeout`).                                |\n",
        "| `http_client`          | `httpx.Client`     | Use a custom HTTP client (advanced).                                       |\n",
        "| `callbacks`            | `list`             | LangChain callback functions for observability/logging.                    |\n",
        "| `verbose`              | `bool`             | Print logs for debugging.                                                  |\n",
        "| `cache`                | `bool`             | Enables caching of responses.                                              |\n"
      ]
    },
    {
      "cell_type": "code",
      "execution_count": null,
      "metadata": {
        "id": "qZASJVkDD2CM"
      },
      "outputs": [],
      "source": [
        "from langchain_openai import ChatOpenAI\n",
        "from dotenv import load_dotenv\n",
        "\n",
        "load_dotenv()                            # Load variables from .env (e.g., OPENAI_API_KEY)\n",
        "\n",
        "# Initialize ChatOpenAI with custom settings\n",
        "model = ChatOpenAI(\n",
        "    model='gpt-4',                       # Use GPT-4 model\n",
        "    temperature=1.5,                     # High creativity in output\n",
        "    max_completion_tokens=10             # Limit response length (approx.)\n",
        ")\n",
        "\n",
        "# Send a prompt and get the response\n",
        "result = model.invoke(\"Write a 5 line poem on cricket\")\n",
        "\n",
        "print(result.content)"
      ]
    },
    {
      "cell_type": "markdown",
      "metadata": {
        "id": "dZXwocQiBJCK"
      },
      "source": [
        "### 🔷 **b) Anthropic**"
      ]
    },
    {
      "cell_type": "code",
      "execution_count": null,
      "metadata": {
        "id": "SAQ4gGr3EIk0"
      },
      "outputs": [],
      "source": [
        "from langchain_anthropic import ChatAnthropic\n",
        "from dotenv import load_dotenv\n",
        "\n",
        "load_dotenv()\n",
        "\n",
        "model = ChatAnthropic(model='claude-3-5-sonnet-20241022')\n",
        "\n",
        "result = model.invoke('What is the capital of India')\n",
        "\n",
        "print(result.content)"
      ]
    },
    {
      "cell_type": "markdown",
      "metadata": {
        "id": "8vranOIUa5rf"
      },
      "source": []
    },
    {
      "cell_type": "markdown",
      "metadata": {
        "id": "VatlYQ6SBSqm"
      },
      "source": [
        "### 🔷 **c) Google**"
      ]
    },
    {
      "cell_type": "code",
      "execution_count": 1,
      "metadata": {
        "id": "dQ31uGqwEO26"
      },
      "outputs": [
        {
          "name": "stderr",
          "output_type": "stream",
          "text": [
            "e:\\01_Github_Repo\\GenAI-with-Langchain-and-Huggingface\\venv\\Lib\\site-packages\\tqdm\\auto.py:21: TqdmWarning: IProgress not found. Please update jupyter and ipywidgets. See https://ipywidgets.readthedocs.io/en/stable/user_install.html\n",
            "  from .autonotebook import tqdm as notebook_tqdm\n"
          ]
        },
        {
          "name": "stdout",
          "output_type": "stream",
          "text": [
            "The capital of India is **New Delhi**.\n"
          ]
        }
      ],
      "source": [
        "from langchain_google_genai import ChatGoogleGenerativeAI\n",
        "from dotenv import load_dotenv\n",
        "\n",
        "load_dotenv()\n",
        "\n",
        "model = ChatGoogleGenerativeAI(model='gemini-1.5-flash',\n",
        "                               temperature=0.1,\n",
        "                               max_output_tokens=100,\n",
        "                               )\n",
        "\n",
        "result = model.invoke('What is the capital of India')\n",
        "\n",
        "print(result.content)"
      ]
    },
    {
      "cell_type": "markdown",
      "metadata": {
        "id": "z6dUhUBDBXRa"
      },
      "source": [
        "### 🔷 **d) Huggingface Using API**\n",
        "\n",
        "\n"
      ]
    },
    {
      "cell_type": "code",
      "execution_count": null,
      "metadata": {
        "id": "lrX3m8IWhIIA"
      },
      "outputs": [],
      "source": [
        "# 1. Securely load the Hugging Face token from Colab secrets\n",
        "from google.colab import userdata\n",
        "from langchain_huggingface import ChatHuggingFace, HuggingFaceEndpoint\n",
        "\n",
        "# 2. Get the token from Colab secrets\n",
        "hf_token = userdata.get(\"HUGGINGFACEHUB_API_TOKEN\")\n",
        "\n",
        "# 3. Pass the token to the environment (optional) or directly to HuggingFaceEndpoint\n",
        "# Optional: os.environ['HUGGINGFACEHUB_API_TOKEN'] = hf_token\n",
        "\n",
        "# 4. Initialize the HuggingFace endpoint\n",
        "llm = HuggingFaceEndpoint(\n",
        "    repo_id=\"HuggingFaceH4/zephyr-7b-beta\",\n",
        "    task=\"text-generation\",\n",
        "    huggingfacehub_api_token=hf_token\n",
        ")\n",
        "\n",
        "# 5. Wrap with LangChain's chat model\n",
        "chat_model = ChatHuggingFace(llm=llm)\n",
        "\n",
        "# 6. Invoke a prompt\n",
        "response = chat_model.invoke(\"What is the capital of India?\")\n",
        "\n",
        "# 7. Print response\n",
        "print(response.content)"
      ]
    },
    {
      "cell_type": "markdown",
      "metadata": {
        "id": "LUpsDvH9d1S-"
      },
      "source": [
        "#### 👉`.env` file\n",
        "\n",
        "```python\n",
        "# OPENAI_API_KEY=\"your-API-key\"\n",
        "# ANTHROPIC_API_KEY=\"your-API-key\"\n",
        "# GOOGLE_API_KEY=\"your-API-key\"\n",
        "# AZURE_OPENAI_API_KEY=\"your-API-key\"\n",
        "# HUGGINGFACEHUB_API_TOKEN =\"your-API-key\"\n",
        "```\n",
        "\n",
        "```python\n",
        "from langchain_huggingface import ChatHuggingFace, HuggingFaceEndpoint\n",
        "from dotenv import load_dotenv\n",
        "\n",
        "load_dotenv()\n",
        "\n",
        "llm = HuggingFaceEndpoint(\n",
        "    repo_id=\"HuggingFaceH4/zephyr-7b-beta\",\n",
        "    task=\"text-generation\"\n",
        ")\n",
        "\n",
        "model = ChatHuggingFace(llm=llm)\n",
        "\n",
        "result = model.invoke(\"What is the capital of India\")\n",
        "\n",
        "print(result.content)\n",
        "```"
      ]
    },
    {
      "cell_type": "markdown",
      "metadata": {
        "id": "z9HDH_fgBfMx"
      },
      "source": [
        "### 🔷 **e) Huggingface Local**"
      ]
    },
    {
      "cell_type": "code",
      "execution_count": null,
      "metadata": {
        "id": "VfYWyOK8szRb"
      },
      "outputs": [],
      "source": [
        "# !huggingface-cli login"
      ]
    },
    {
      "cell_type": "code",
      "execution_count": null,
      "metadata": {
        "id": "xhkQcKlb8_hB"
      },
      "outputs": [],
      "source": [
        "import os\n",
        "from google.colab import userdata\n",
        "from langchain_huggingface import ChatHuggingFace, HuggingFacePipeline\n",
        "\n",
        "# Get Hugging Face API token\n",
        "# hf_token = userdata.get(\"HUGGINGFACEHUB_API_TOKEN\")\n",
        "\n",
        "# Create LLM pipeline\n",
        "llm = HuggingFacePipeline.from_model_id(\n",
        "    model_id=\"deepseek-ai/DeepSeek-R1-Distill-Qwen-1.5B\",\n",
        "    task=\"text-generation\",\n",
        "    huggingfacehub_api_token=hf_token,\n",
        "    device=-1,  # Use CPU, since GPU is not available\n",
        "    pipeline_kwargs={\n",
        "        \"temperature\": 0.5,\n",
        "        \"max_new_tokens\": 100,\n",
        "    },\n",
        ")\n",
        "\n",
        "# Create Chat wrapper\n",
        "chat = ChatHuggingFace(llm=llm)\n",
        "\n",
        "# Invoke prompt\n",
        "resp = chat.invoke(\"What is the capital of India?\")\n",
        "\n",
        "# Print response\n",
        "print(resp.content)"
      ]
    },
    {
      "cell_type": "code",
      "execution_count": null,
      "metadata": {
        "id": "PPXZcGxxbJgM"
      },
      "outputs": [],
      "source": [
        "from langchain_huggingface import ChatHuggingFace, HuggingFacePipeline\n",
        "import os\n",
        "\n",
        "os.environ['HF_HOME'] = 'D:/huggingface_cache'\n",
        "\n",
        "llm = HuggingFacePipeline.from_model_id(\n",
        "    model_id='TinyLlama/TinyLlama-1.1B-Chat-v1.0',\n",
        "    task='text-generation',\n",
        "    pipeline_kwargs=dict(\n",
        "        temperature=0.5,\n",
        "        max_new_tokens=100\n",
        "    )\n",
        ")\n",
        "model = ChatHuggingFace(llm=llm)\n",
        "\n",
        "result = model.invoke(\"What is the capital of India\")\n",
        "\n",
        "print(result.content)"
      ]
    },
    {
      "cell_type": "markdown",
      "metadata": {
        "id": "MLIf2cPqY2-0"
      },
      "source": [
        "## **03 - Embedding Models**"
      ]
    },
    {
      "cell_type": "markdown",
      "metadata": {
        "id": "mfSeM7SIGC6_"
      },
      "source": [
        "### 🔍 What is **Semantic Search**?\n",
        "\n",
        "**Semantic Search** is a search technique that understands the **meaning** (semantics) of a query, rather than just matching exact **keywords**.\n",
        "\n",
        "---\n",
        "\n",
        "### 🧠 Traditional Search vs Semantic Search\n",
        "\n",
        "| Type               | How it works                    | Example                                                                     |\n",
        "| ------------------ | ------------------------------- | --------------------------------------------------------------------------- |\n",
        "| 🔤 Keyword Search  | Matches exact words             | Searching “apple” finds documents containing the word \"apple\" only          |\n",
        "| 🧠 Semantic Search | Understands meaning and context | Searching “fruit company in California” may return results about Apple Inc. |\n",
        "\n",
        "---\n",
        "\n",
        "### 📦 How It Works (Simplified):\n",
        "\n",
        "1. **Embed** all documents using a model like `text-embedding-3-small`.\n",
        "2. **Embed** the user’s query using the same model.\n",
        "3. **Compare** the query and document embeddings using **cosine similarity** (how \"close\" their meanings are).\n",
        "4. **Return** the most similar results, even if they don't contain the exact words.\n",
        "\n",
        "---\n",
        "\n",
        "### 🧪 Example\n",
        "\n",
        "```python\n",
        "query = \"Capital city of France\"\n",
        "documents = [\"Paris is beautiful\", \"Berlin is in Germany\", \"Rome is ancient\"]\n",
        "\n",
        "# Semantic Search will likely return: \"Paris is beautiful\"\n",
        "# Even though it doesn't contain the words \"capital\" or \"France\"\n",
        "```\n",
        "\n",
        "---\n",
        "\n",
        "### 📍 Use Cases\n",
        "\n",
        "* 🔎 Search engines (Google, YouTube, etc.)\n",
        "* 📚 Question-answering systems\n",
        "* 🤖 RAG (Retrieval-Augmented Generation)\n",
        "* 🛍️ E-commerce product search\n",
        "* 📄 Document similarity and clustering\n",
        "\n",
        "---\n",
        "\n"
      ]
    },
    {
      "cell_type": "markdown",
      "metadata": {
        "id": "JWpZC8BVFkNJ"
      },
      "source": [
        "\n",
        "\n",
        "### 🧠 **OpenAI Embedding Models**\n",
        "\n",
        "| Model Name               | Dimensions | Released | Notes                                                                        |\n",
        "| ------------------------ | ---------- | -------- | ---------------------------------------------------------------------------- |\n",
        "| `text-embedding-3-small` | 1536       | Jan 2024 | Smaller, cheaper, fast — good for general tasks                              |\n",
        "| `text-embedding-3-large` | 3072       | Jan 2024 | More accurate, better quality — recommended for high-quality semantic search |\n",
        "| `text-embedding-ada-002` | 1536       | 2022     | Legacy model — widely used, still effective                                  |\n",
        "\n",
        "---\n",
        "\n",
        "### 📏 **What are Dimensions?**\n",
        "\n",
        "* **Dimensions** refer to the **length of the embedding vector** (e.g., `[0.012, -0.034, ..., 0.921]` of size 1536).\n",
        "* Higher dimensions → more expressive power, better semantic precision (but larger in size).\n",
        "* You can **reduce dimensions** using the `dimensions` parameter (e.g., `dimensions=256`) for efficiency, but it may reduce quality.\n",
        "\n",
        "---\n",
        "\n",
        "### ✅ **Examples in LangChain**\n",
        "\n",
        "```python\n",
        "# Use the latest small model (default dimensions = 1536)\n",
        "OpenAIEmbeddings(model=\"text-embedding-3-small\")\n",
        "\n",
        "# Use large model with reduced dimensions (e.g., 256 instead of 3072)\n",
        "OpenAIEmbeddings(model=\"text-embedding-3-large\", dimensions=256)\n",
        "\n",
        "# Legacy model (1536 dimensions)\n",
        "OpenAIEmbeddings(model=\"text-embedding-ada-002\")\n",
        "```\n",
        "\n",
        "---\n",
        "\n",
        "### 💡 Recommendation\n",
        "\n",
        "* Use `text-embedding-3-small` for cost-effective tasks.\n",
        "* Use `text-embedding-3-large` for best accuracy (e.g., RAG, vector search).\n",
        "* Avoid `ada-002` unless you're maintaining older systems.\n",
        "\n",
        "\n"
      ]
    },
    {
      "cell_type": "markdown",
      "metadata": {
        "id": "TrIk6fgVCibI"
      },
      "source": [
        "### 🔷 **a) Embedding Openai Query**"
      ]
    },
    {
      "cell_type": "code",
      "execution_count": null,
      "metadata": {
        "id": "tcMqB5x2YRoa"
      },
      "outputs": [],
      "source": [
        "from langchain_openai import OpenAIEmbeddings  # Import OpenAI embedding model wrapper\n",
        "from dotenv import load_dotenv                 # Load environment variables\n",
        "\n",
        "load_dotenv()                                  # Load variables from .env (e.g., API key)\n",
        "\n",
        "# Initialize embedding model with reduced dimensions (default is 3072 for 'text-embedding-3-large')\n",
        "embedding = OpenAIEmbeddings(model='text-embedding-3-large', dimensions=32)\n",
        "\n",
        "# Generate vector embedding for the given text\n",
        "result = embedding.embed_query(\"Delhi is the capital of India\")\n",
        "\n",
        "# Print the embedding vector as a string\n",
        "print(str(result))"
      ]
    },
    {
      "cell_type": "markdown",
      "metadata": {
        "id": "eV-krTGSHLKW"
      },
      "source": [
        "```\n",
        "[-0.0231, 0.0456, ..., 0.0123]  # (total: 32 values)\n",
        "\n",
        "```"
      ]
    },
    {
      "cell_type": "markdown",
      "metadata": {
        "id": "R185g-A3EaVq"
      },
      "source": [
        "### 🔷 **b) Embedding OpenAIi Docs**"
      ]
    },
    {
      "cell_type": "code",
      "execution_count": null,
      "metadata": {
        "id": "oHk4vBRNEjgq"
      },
      "outputs": [],
      "source": [
        "from langchain_openai import OpenAIEmbeddings\n",
        "from dotenv import load_dotenv\n",
        "\n",
        "load_dotenv()                                  )\n",
        "\n",
        "# Initialize embedding model with reduced dimensions\n",
        "embedding = OpenAIEmbeddings(model='text-embedding-3-large', dimensions=32)\n",
        "\n",
        "# List of input texts to embed\n",
        "documents = [\n",
        "    \"Delhi is the capital of India\",\n",
        "    \"Kolkata is the capital of West Bengal\",\n",
        "    \"Paris is the capital of France\"\n",
        "]\n",
        "\n",
        "# Generate embeddings for the list of documents\n",
        "result = embedding.embed_documents(documents)\n",
        "\n",
        "print(str(result))"
      ]
    },
    {
      "cell_type": "markdown",
      "metadata": {
        "id": "05SUD9LhHSgY"
      },
      "source": [
        "```\n",
        "[\n",
        "  [0.0123, -0.0456, ..., 0.0031],   # Embedding for \"Delhi is the capital of India\"\n",
        "  [0.0098, -0.0382, ..., 0.0147],   # Embedding for \"Kolkata is the capital of West Bengal\"\n",
        "  [0.0235, -0.0512, ..., 0.0194]    # Embedding for \"Paris is the capital of France\"\n",
        "]\n",
        "\n",
        "```"
      ]
    },
    {
      "cell_type": "markdown",
      "metadata": {
        "id": "1pedeT1gHV0S"
      },
      "source": [
        "### 🔷 **c) Embedding HuggingFace** `Local`"
      ]
    },
    {
      "cell_type": "code",
      "execution_count": null,
      "metadata": {
        "colab": {
          "base_uri": "https://localhost:8080/"
        },
        "id": "jT_YxPkSHkP8",
        "outputId": "3ab85b7a-750b-4557-d807-91e9f3d2cb11"
      },
      "outputs": [
        {
          "name": "stdout",
          "output_type": "stream",
          "text": [
            "[[0.043549541383981705, 0.023877229541540146, -0.045241255313158035, 0.035404957830905914, -0.016651036217808723, -0.06554819643497467, 0.076260045170784, 0.009940397925674915, -0.001963227754458785, -0.027022695168852806, 0.00738556869328022, -0.12068238109350204, 0.0640484169125557, -0.06795034557580948, 0.03638886287808418, -0.0780777707695961, 0.033184148371219635, 0.08175564557313919, 0.07336147874593735, -0.07802221924066544, -0.020921166986227036, 0.03573276475071907, -0.008563303388655186, -0.037455108016729355, 0.00043885112972930074, 0.053464263677597046, 0.005293607711791992, -0.016870398074388504, -0.000413047760957852, 0.0010301906149834394, 0.06669675558805466, 0.004223186522722244, -0.022522566840052605, -0.002101559890434146, -0.055947814136743546, 0.01686999760568142, -0.1295160949230194, 0.06496334075927734, 0.17288093268871307, -0.11778349429368973, 0.03644103556871414, -0.000677512027323246, 0.07786679267883301, -0.028167517855763435, 0.03655537590384483, -0.023698804900050163, -0.02790212444961071, -0.004656855948269367, -0.011188924312591553, -0.02649613469839096, 0.06156330928206444, -0.048177219927310944, -0.07787912338972092, 0.03313848003745079, 0.02449951134622097, 0.04385222867131233, -0.032409247010946274, -0.04225396364927292, -0.004053812008351088, 0.030118506401777267, -0.01364248339086771, 0.043029751628637314, -0.024779796600341797, 0.022215483710169792, 0.0875730887055397, 0.012538780458271503, 0.038281045854091644, -0.015482554212212563, 0.014035405591130257, -0.020649679005146027, 0.016255756840109825, -0.012246188707649708, 0.02638865076005459, 0.01704891212284565, -0.012853015214204788, -0.07506397366523743, -0.03262092545628548, 0.07490301132202148, 0.014196847565472126, 0.03280464932322502, -0.01816450245678425, 0.028512436896562576, 0.028033340349793434, 0.08259157091379166, -0.09775902330875397, 0.008714078925549984, -0.04082169011235237, -0.01606968231499195, -0.0035580205731093884, -0.04325287044048309, 0.06346108764410019, 0.07535665482282639, -0.06780531257390976, 0.0011726041557267308, -0.06065615266561508, -0.035546790808439255, -0.07726342976093292, 0.049065664410591125, -0.01873236894607544, 0.023686159402132034, 0.02215038798749447, -0.029883775860071182, -0.09658297151327133, 0.015421693213284016, -0.051165513694286346, -0.07261940091848373, 0.0553908534348011, -0.07977937906980515, 0.007415558211505413, -0.015443813055753708, -0.05476999655365944, 0.012057463638484478, -0.048711374402046204, -0.04038207605481148, -0.0003923961194232106, 0.018431853502988815, 0.01827819086611271, -0.011221233755350113, -0.02124432660639286, -0.02254820056259632, -0.07889121025800705, 0.023742057383060455, -0.01836337335407734, -0.0690629631280899, -0.06974615901708603, -0.1075616106390953, -0.03640320897102356, -6.297900532994475e-33, -0.10432390868663788, -0.030779317021369934, 0.0778890922665596, 0.06358230113983154, -0.0018615768058225513, 0.039968594908714294, 0.057966191321611404, -0.08833266794681549, -0.0035982532426714897, -0.06283364444971085, 0.01078797411173582, -0.14935792982578278, -0.008195623755455017, -0.10685470700263977, 0.0856679305434227, 0.023375628516077995, 0.021146230399608612, -0.0031016606371849775, -0.010256240144371986, 0.008449815213680267, -0.028259269893169403, -0.019984189420938492, 0.006321839056909084, -0.060975804924964905, 0.061109140515327454, -0.02171214483678341, 0.0465342253446579, 0.053876761347055435, 0.053162503987550735, 0.019443286582827568, 0.025639237836003304, 0.0882863700389862, -0.016172325238585472, 0.027486372739076614, 0.009730429388582706, 0.002538608852773905, 0.01886855624616146, 0.024688508361577988, 0.0028549227863550186, 0.017087124288082123, -0.05583006888628006, 0.044804636389017105, -0.027243992313742638, -0.021476704627275467, -0.0016898714238777757, 0.08229093253612518, -0.020781198516488075, 0.05805094540119171, 0.020494626834988594, -0.004589486867189407, 0.0021169709507375956, 0.018269741907715797, -0.012833992950618267, -0.037735164165496826, 0.0213868860155344, 0.12983769178390503, 0.009614361450076103, -0.03126172348856926, -0.011256339959800243, 0.13702881336212158, -0.017451219260692596, -0.05822715163230896, -0.07062973827123642, -0.005591655150055885, 0.055336132645606995, 0.1484779268503189, 0.012927677482366562, -0.05702589079737663, 0.07107026129961014, 0.05155337229371071, -0.023908572271466255, -0.03569602221250534, -0.039489008486270905, 0.07583913952112198, -0.0640273168683052, 0.07680173218250275, -0.010937003418803215, 0.014613480307161808, -0.0704585537314415, -0.007670213934034109, -0.005123624578118324, 0.03614874184131622, 0.01019283477216959, -0.049633193761110306, 0.11274445801973343, -0.08476675301790237, -0.10959210991859436, -0.03461671993136406, 0.05666520074009895, -0.0434303805232048, 0.02793698012828827, -0.09202231466770172, -0.034788090735673904, 0.06254851073026657, -0.06208035722374916, 2.35878167817755e-33, 0.03315328061580658, -0.00970531813800335, -0.11694280803203583, 0.013170943595468998, -0.043500691652297974, 0.0019074567826464772, 0.009509054943919182, -0.024365229532122612, 0.0492241270840168, 0.12387912720441818, -0.007120685651898384, 0.06953427195549011, -0.052982307970523834, 0.07971493899822235, 0.02929200604557991, 0.023551762104034424, 0.042614907026290894, 0.035650573670864105, -0.05497942492365837, -0.04622749611735344, -0.04286494106054306, 0.045723505318164825, -0.04948367550969124, -0.0765295922756195, -0.07786132395267487, 0.026709450408816338, -0.12376544624567032, 0.05890468880534172, 0.014551639556884766, -0.028052952140569687, 0.029367728158831596, -0.08261469751596451, -0.0033682547509670258, 0.0482906736433506, -0.020214905962347984, -0.008408843539655209, 0.10988890379667282, -0.013597354292869568, 0.05319029837846756, 0.013518037274479866, -0.05700979381799698, 0.07172369211912155, 0.07408221065998077, 0.023345649242401123, 0.04269338771700859, -0.08243817090988159, 0.05591724067926407, 0.013477620668709278, -0.05538996681571007, 0.019585058093070984, -0.02629038877785206, -0.12718656659126282, 0.04553457349538803, -0.02463926188647747, -0.02691623568534851, 0.013093676418066025, -0.01396043598651886, 0.06244925037026405, 0.03771144896745682, -0.10924801975488663, 0.05280297249555588, 0.01538008451461792, -0.01584039442241192, 0.09190792590379715, -0.07513979077339172, 0.0031826647464185953, 0.0032801227644085884, -0.010955489240586758, 0.05155452713370323, -0.023821720853447914, 0.02452484890818596, 0.013977077789604664, -0.10196378082036972, 0.014859708026051521, -0.03090798482298851, 0.05976179987192154, 0.07197421789169312, 0.03206149861216545, 0.0341111496090889, -0.008638251572847366, 0.026070939376950264, 0.08731300383806229, 0.020026449114084244, -0.06547277420759201, -0.01361310575157404, 0.039948415011167526, 0.05586397647857666, 0.010475461371243, 0.026641227304935455, -0.028239378705620766, 0.0007876522140577435, 0.017443254590034485, 0.002430039457976818, 0.011373111978173256, -0.0005506660672836006, -1.6926859913724002e-08, -0.028947440907359123, -0.04502138867974281, -0.09074927866458893, 0.059727128595113754, -0.005693197716027498, -0.02952832356095314, 0.010947175323963165, -0.04492630437016487, 0.05865320935845375, -0.018177151679992676, -0.026116376742720604, -0.03040999174118042, -0.059803690761327744, -0.013380594551563263, -0.08792952448129654, 0.007009423803538084, -0.042765308171510696, -0.005255583673715591, 0.0061268312856554985, -0.027342144399881363, -0.0002302090433659032, 0.009053400717675686, 0.02797851711511612, 0.023142913356423378, 0.06016794592142105, -0.06839422136545181, 0.02354595623910427, 0.021900564432144165, -0.006451992318034172, 0.056741200387477875, -0.0408407561480999, 0.009814699180424213, 0.002463240409269929, -0.06575261801481247, 0.024814801290631294, -0.00852595828473568, 0.06171787902712822, -0.036213163286447525, 0.05954654514789581, 0.05812807008624077, 0.007013541180640459, 0.004276243504136801, 0.0777934193611145, -0.016137732192873955, 0.044252026826143265, 0.01980881579220295, 0.06398855894804001, -0.04442450404167175, 0.03195621445775032, -0.09261336177587509, -0.11607382446527481, -0.0008846053387969732, 0.00438464293256402, -0.03225354850292206, -0.03854331746697426, 0.00911378301680088, -0.07360237836837769, 0.03120819665491581, -0.03782742843031883, -0.011497911997139454, 0.03067941777408123, 0.02599499374628067, 0.047101229429244995, 0.048659201711416245], [0.0733809694647789, 0.04375029355287552, -0.01972256787121296, 0.05596863105893135, -0.042110178619623184, -0.01938985288143158, 0.043719202280044556, -0.0006525368080474436, -0.057243626564741135, -0.04870808497071266, -0.05982627719640732, -0.14105653762817383, 0.03352632746100426, 0.03698158264160156, 0.012879155576229095, 0.053111687302589417, 0.01593012735247612, -0.02632829174399376, 0.012985232286155224, -0.09993200749158859, -0.051461584866046906, 0.03651757910847664, -0.01992260105907917, -0.013622810132801533, -0.050252508372068405, -0.05346815288066864, 0.003806231776252389, -0.057522471994161606, 0.03327301889657974, 0.024501945823431015, -0.047923870384693146, -0.08839967101812363, 0.01147873979061842, 0.06870561093091965, -0.018352173268795013, -0.09402696043252945, -0.007975077256560326, 0.02336016669869423, 0.06565038114786148, -0.055476706475019455, 0.010915013030171394, 0.0994219109416008, -0.07137847691774368, 0.03639983758330345, 0.08021093159914017, 0.01592530682682991, 0.05320088192820549, 0.009380905888974667, -0.01222408190369606, -0.04716125503182411, 0.056994616985321045, -0.03444364294409752, -0.059192825108766556, 0.05213373899459839, -0.013063114136457443, -0.03035244159400463, -0.03503788262605667, 0.013349737972021103, -0.008897550404071808, 0.025019092485308647, 0.0506427064538002, 0.07401967793703079, -0.0012987679801881313, -0.06167493015527725, 0.07990535348653793, 0.03747684136033058, 0.015725305303931236, 0.05571451410651207, 0.06958507746458054, -0.08429747819900513, 0.017863843590021133, -0.06974560022354126, -0.0488215796649456, -0.03907055780291557, -0.0380188524723053, -0.11036678403615952, -0.04355194792151451, 0.09551721066236496, -0.060859981924295425, 0.03449928015470505, 0.020562367513775826, -0.023565564304590225, 0.06402144581079483, 0.025081785395741463, 0.014668540097773075, -0.005941577721387148, -0.09520715475082397, -0.04810574650764465, -0.008892152458429337, -0.031473785638809204, 0.016581514850258827, -0.09593014419078827, -0.060380950570106506, 0.020149797201156616, 0.007206807378679514, 0.013610685244202614, -0.008054031990468502, -0.048915743827819824, 0.0028958471957594156, 0.03679880499839783, -0.06953216344118118, -0.009626314043998718, -0.025906870141625404, -0.013619844801723957, -0.03038099594414234, 0.006319505162537098, 0.07655857503414154, -0.06805554032325745, -0.07288619130849838, -0.06547345221042633, -0.05600777640938759, 0.03974651172757149, 0.03272729367017746, 0.050304610282182693, 0.02635631151497364, -0.038220565766096115, 0.020783692598342896, 0.030079321935772896, -0.01108576450496912, 0.031826265156269073, -0.02571728825569153, 0.04492547735571861, -0.014320637099444866, -0.037084367126226425, -0.05550568550825119, -0.12702617049217224, 0.0052725751884281635, -4.597551260607898e-33, 0.017236074432730675, -0.025055289268493652, 0.10020416975021362, 0.017221013084053993, 0.019657736644148827, -0.005448100622743368, 0.004778589587658644, -0.032025549560785294, 0.00646315747871995, -0.03136708587408066, 0.05296778306365013, -0.11369160562753677, 0.08538073301315308, -0.11327893286943436, 0.03642578795552254, 0.014377472922205925, 0.0042483191937208176, 0.08080210536718369, 0.028370684012770653, 0.012392234057188034, -0.04457874596118927, -0.026918692514300346, -0.04895300045609474, -0.029981546103954315, -0.013377200812101364, 0.05210910364985466, 0.029663478955626488, 0.08276019245386124, 0.0397171787917614, 0.040552422404289246, 0.02208453044295311, 0.028042858466506004, -0.005812858697026968, 0.039657749235630035, -0.04500673711299896, 0.04908175766468048, -0.04170455038547516, -0.017055682837963104, -0.0205214936286211, -0.0443294495344162, 0.07302585989236832, 0.025247199460864067, -0.08520708233118057, 0.045695044100284576, 0.01018692459911108, 0.03587854281067848, -0.03263445571064949, 0.019044341519474983, -0.025453248992562294, 0.02354246750473976, -0.07252700626850128, -0.028148524463176727, -0.07234220206737518, -0.020920734852552414, 0.03935842216014862, 0.062395840883255005, 0.07404984533786774, 0.007297370117157698, 0.06954855471849442, 0.08936363458633423, 0.028782086446881294, -0.07938526570796967, -0.1346014440059662, -0.03739718347787857, 0.05167846754193306, 0.028566278517246246, 0.0019202291732653975, 0.03573611006140709, -0.044559065252542496, 0.013712029904127121, 0.009800538420677185, -0.011572066694498062, 0.02600306086242199, 0.09610581398010254, -0.04594467580318451, 0.03150688484311104, 0.013566252775490284, 0.03958817571401596, -0.05799594894051552, 0.038233641535043716, -0.01747419498860836, 0.01806667074561119, -0.03114224597811699, -0.07536807656288147, 0.12332659959793091, -0.05363673344254494, -0.04171915352344513, -0.06314931064844131, -0.008646436966955662, 0.006259155925363302, -0.08206581324338913, -0.0005403741379268467, 0.05239668861031532, 0.08239272981882095, -0.05423875153064728, 2.6539393097904027e-33, 0.0352550633251667, -0.040169693529605865, -0.05847662314772606, -0.04386419802904129, -0.038235943764448166, 0.0043693725019693375, -0.017551960423588753, -0.02225557714700699, 0.03848280757665634, 0.07123640924692154, 0.024359235540032387, 0.0007742804591543972, -0.04130944609642029, 0.06403158605098724, 0.03801961615681648, 0.05453374236822128, 0.05519052594900131, 0.036830052733421326, -0.04058072343468666, -0.01614706963300705, -0.06581199914216995, 0.026327837258577347, -0.029754413291811943, -0.047317735850811005, -0.03944320231676102, 0.017968885600566864, -0.12744535505771637, 0.1090773195028305, 0.011055698618292809, 0.0739278718829155, 0.03609098866581917, -0.10029656440019608, -0.0050249844789505005, 0.0705297514796257, -0.08165409415960312, 0.00453732255846262, 0.04695870354771614, -0.03998478129506111, 0.1001836284995079, 0.06266146898269653, -0.034421082586050034, 0.05932905152440071, -0.026899317279458046, 0.00795038603246212, 0.06405322998762131, 0.08518349379301071, 0.05795247107744217, -0.054861098527908325, 0.044314976781606674, -0.0655752643942833, 0.1217927411198616, -0.08877664804458618, -0.0013523701345548034, -0.021644778549671173, -0.02950865402817726, 0.043823715299367905, -0.031846094876527786, 0.10242011398077011, -0.012777404859662056, -0.08593742549419403, 0.06469132006168365, 0.007547370158135891, 0.030767984688282013, 0.06462978571653366, -0.09525246173143387, -0.033913932740688324, 0.041891150176525116, 0.03123427927494049, 0.07161378860473633, -0.08540765941143036, -0.0032081203535199165, 0.015471765771508217, 0.04157751053571701, 0.08203090727329254, -0.07389179617166519, 0.03279057517647743, 0.058109965175390244, 0.00864272378385067, -0.022818269208073616, 0.005899233277887106, -0.035387542098760605, 0.0693632960319519, 0.005976351443678141, -0.02945917658507824, 0.008695363998413086, 0.01805676333606243, -0.01458546333014965, 0.06184354051947594, 0.04628809913992882, -0.022629188373684883, -0.019489843398332596, 0.05750367045402527, 0.0407075509428978, 0.05034986510872841, 0.07449133694171906, -1.5570476463722116e-08, -0.0006209449493326247, -0.05641758441925049, -0.052906498312950134, 0.09825992584228516, -0.07020488381385803, 0.015038798563182354, -0.042829323559999466, -0.014540372416377068, -0.08009660989046097, -0.054106928408145905, -0.01096406765282154, -0.027229811996221542, -0.08008818328380585, -0.014262335374951363, -0.05396644398570061, -0.03270895034074783, -0.008047602139413357, -0.014032630249857903, 0.07579826563596725, -0.026619648560881615, 0.06497042626142502, 0.05791185423731804, 0.08469584584236145, 0.00023831114231143147, 0.0013590765884146094, -0.04732779785990715, -0.002699072239920497, -0.0477030985057354, -0.050127219408750534, -0.035992443561553955, 0.058846309781074524, 0.048318956047296524, 0.009917767718434334, 0.030624927952885628, -0.046543318778276443, -0.052768588066101074, 0.06433496624231339, 0.0006713459151796997, 0.0019497497705742717, 0.08358925580978394, 0.05922360345721245, 0.010642614215612411, 0.02423214353621006, 0.00440787710249424, 0.051178041845560074, 0.03296142816543579, 0.06070816516876221, 0.03158275783061981, -0.009850331582129002, -0.13495147228240967, 0.044207461178302765, -0.03833887353539467, 0.037138815969228745, -0.020772656425833702, -0.01680177077651024, 0.06284680962562561, -0.11363165825605392, -0.03916400671005249, -0.020871736109256744, 0.011930558830499649, 0.025069264695048332, 0.007908083498477936, 0.028160855174064636, 0.016306273639202118], [0.09750019758939743, 0.03246024623513222, 0.027851896360516548, -0.04311516508460045, 0.07592961937189102, -0.05266818776726723, 0.010422696359455585, -0.009475366212427616, 0.029920514672994614, 0.02712409943342209, -0.019010411575436592, -0.08242757618427277, 0.007861067540943623, -0.06661424040794373, -0.04055479168891907, -0.12313028424978256, -0.017501695081591606, -0.005959411151707172, 0.041603654623031616, 0.01570218987762928, -0.014666562899947166, -0.03463931754231453, 0.05559864640235901, 0.0035235369578003883, -0.05394745245575905, -0.0013527722330763936, -0.07142456620931625, -0.020476084202528, -0.017362678423523903, 0.007123904302716255, 0.0727049857378006, -0.03645298629999161, -0.05510403588414192, -0.008486981503665447, -0.03714604675769806, -0.03750383481383324, 0.0022262844722718, -0.02160087786614895, 0.02517818659543991, 0.05008619278669357, -0.0051891133189201355, -0.03841879218816757, -0.055113859474658966, -0.026030395179986954, -0.01691771298646927, 0.026591675356030464, 0.012007031589746475, 0.04102597013115883, 0.03422677144408226, -0.08888014405965805, 0.06409823894500732, 0.03182482346892357, -0.03894472122192383, -0.03747435659170151, -0.03772645816206932, 0.09660403430461884, 0.03931313753128052, 0.017008831724524498, -0.008071991614997387, 0.08101215958595276, -0.007653973530977964, -0.038503870368003845, -0.015341024845838547, 0.038020990788936615, 0.09241940826177597, 0.022786470130085945, 0.017822064459323883, 0.017679495736956596, -0.09832372516393661, 0.06413233280181885, -0.04395497590303421, 0.005706082098186016, -0.001782538602128625, -0.04013213515281677, 0.08891859650611877, -0.02347872219979763, -0.09861567616462708, 0.05145274102687836, 0.011284394189715385, 0.025046149268746376, 0.0341775082051754, -0.06257490068674088, 0.025556357577443123, 0.009173445403575897, 0.017681121826171875, -0.008509146049618721, 0.07972069829702377, 0.031122179701924324, 0.04460461437702179, -0.04837905615568161, -0.05162089318037033, 0.04127348214387894, -0.047199077904224396, 0.0780557245016098, -0.12300791591405869, 0.053674615919589996, -0.034544821828603745, 0.026865467429161072, -0.05568823590874672, 0.02102481946349144, -0.04536312073469162, 0.002856505336239934, 0.07600996643304825, -0.061648327857255936, -0.0015581561019644141, 0.03772692009806633, -0.0006223866366781294, -0.03830075263977051, -0.02541464939713478, -0.057029567658901215, -0.08402205258607864, -0.035114843398332596, 0.03315163031220436, -0.015314055606722832, 0.024783603847026825, 0.04831700772047043, -0.02983405441045761, -0.11480750888586044, 0.010456245392560959, -0.07242631912231445, -0.03496832773089409, -0.04477976635098457, -0.01714378595352173, 0.0190237108618021, -0.05096718668937683, -0.02652519941329956, -0.03681136295199394, -7.23385999184589e-33, -0.02411925047636032, 0.08793599158525467, 0.04816270247101784, 0.015314790420234203, -0.033417489379644394, -0.001415165956132114, -0.059492792934179306, 0.053895894438028336, 0.011504373513162136, -0.009766238741576672, 0.04371887072920799, -0.13570642471313477, -0.05763384699821472, 0.07298751920461655, 0.06827746331691742, -0.013547789305448532, 0.14287887513637543, 0.07012210041284561, -0.026134047657251358, 0.006693855859339237, 0.03793611004948616, -0.04647305607795715, 0.008346974849700928, 0.01669725775718689, 0.07696304470300674, 0.040703389793634415, -0.026933616027235985, 0.10522886365652084, -0.014680962078273296, -0.027336686849594116, -0.030483905225992203, 0.04500717297196388, 0.0715201273560524, 0.019133174791932106, 0.022325245663523674, 0.028770677745342255, 0.029868541285395622, 0.023911185562610626, 0.04461021348834038, 0.0860365480184555, 0.060813337564468384, -0.046945132315158844, -0.00924339983612299, -0.004604512359946966, 0.005640774965286255, 0.029984034597873688, -0.024359608069062233, -0.06699573993682861, 0.08266837894916534, 0.0009502889006398618, -0.007947630248963833, -0.06508073210716248, -0.05451230704784393, -0.003766509937122464, 0.043020885437726974, 0.1017753854393959, -0.10832390189170837, -0.014153320342302322, -0.006418770179152489, -0.0121585913002491, -0.0035794125869870186, 0.011857154779136181, -0.04655410349369049, 0.06980254501104355, 0.036067791283130646, 0.0823119729757309, 0.03231140598654747, 0.022317448630928993, 0.006964769680052996, -0.05361306294798851, -0.07385286688804626, 0.021807873621582985, 0.0740860104560852, 0.04691200703382492, 0.06916088610887527, 0.08501521497964859, -0.02510799653828144, 0.026358677074313164, -0.0434187576174736, -0.0018668889533728361, 0.009470542892813683, -0.04920633137226105, -0.07742223888635635, 0.01809612475335598, -0.010733087547123432, -0.03527989611029625, 0.022300371900200844, 0.011091993190348148, -0.0015160854673013091, -0.04909330606460571, -0.07014817744493484, -0.13818350434303284, -0.02455051615834236, -0.03722283989191055, -0.09151183813810349, 2.8484540538217285e-33, 0.039768192917108536, 0.048110634088516235, -0.07528635114431381, 0.004480571486055851, 0.031921420246362686, 0.06593257188796997, 0.08179233223199844, -0.03504986688494682, -0.017066609114408493, 0.01955101266503334, -0.08090865612030029, -0.14492347836494446, 0.007872359827160835, -0.048017941415309906, 0.02370538003742695, 0.03803762048482895, 0.01166688371449709, -0.06690751761198044, -0.030141036957502365, -0.00969636719673872, -0.07820112258195877, -0.00033152199466712773, -0.042571160942316055, 0.011711938306689262, -0.02810087986290455, -0.009839648380875587, -0.0516790896654129, -0.023696938529610634, 0.0012333050835877657, -0.030606361106038094, -0.04674370586872101, 0.025385325774550438, 0.05928780883550644, 0.12367940694093704, 0.025766095146536827, 0.07143562287092209, 0.03525013104081154, 0.0039978004060685635, 0.02617054432630539, 0.015514282509684563, -0.0646539255976677, -0.02926887758076191, 0.032919611781835556, -0.0005349398707039654, 0.06109881028532982, 0.024039043113589287, 0.026577522978186607, -0.05413295701146126, -0.00671001011505723, 0.07853217422962189, 0.037519004195928574, 0.03776641562581062, -0.056429844349622726, -0.04478176310658455, -0.00642308359965682, 0.06561771035194397, -0.008200166746973991, 0.03263714537024498, -0.07471641153097153, -0.0513809472322464, 0.043923892080783844, 0.03792642802000046, -0.025052985176444054, 0.08895419538021088, -0.015044169500470161, -0.09369546920061111, -0.093439020216465, 0.03315242752432823, 0.004311130847781897, 0.03881445899605751, 0.09934592992067337, 0.02130315825343132, -0.047673940658569336, 0.07239885628223419, -0.05015014111995697, -0.007059916853904724, 0.050100453197956085, 0.025015050545334816, -0.00597784947603941, 0.025931475684046745, -0.04994155839085579, 0.028894782066345215, -0.010273758322000504, -0.007939904928207397, -0.03872230648994446, 0.04232664406299591, -0.05048924684524536, -0.0657348483800888, 0.060365088284015656, -0.11307866126298904, 0.006199819501489401, -0.027158331125974655, -0.04914415627717972, -0.02705954574048519, 0.03873962536454201, -1.722580478258351e-08, 0.08123500645160675, 0.03117680549621582, -0.01947403885424137, 0.017069105058908463, -0.05623090639710426, -0.12709425389766693, 0.059762123972177505, -0.003933403175324202, -0.02315262146294117, -0.04770532250404358, -0.08395988494157791, 0.06567011773586273, -0.04958014190196991, -0.05832529067993164, -0.06313560903072357, -0.01668090932071209, -0.018607094883918762, -0.012245548889040947, 0.030501611530780792, 0.07825181633234024, 0.019831480458378792, 0.023285970091819763, -0.05428851395845413, -0.05248044803738594, 0.06021730601787567, -0.09916423261165619, 0.015635155141353607, 0.02836698293685913, -0.043872229754924774, 0.03356917202472687, 0.057130202651023865, -0.058664754033088684, -0.03131329268217087, -0.08036179840564728, 0.035683367401361465, 0.013217994943261147, 0.047506000846624374, 0.014792168512940407, 0.0006168674444779754, 0.00477118045091629, 0.10492146015167236, 0.02047593519091606, 0.009749891236424446, -0.029814526438713074, 0.02845858596265316, 0.037399016320705414, 0.08896329998970032, -0.06447496265172958, 0.14279989898204803, -0.029257284477353096, -0.07778836041688919, 0.07973591983318329, -0.033467743545770645, -0.022703690454363823, -0.030137788504362106, 0.04189895838499069, -0.09851322323083878, 0.014647413976490498, 0.046361081302165985, -0.037260886281728745, -0.01032197941094637, 0.06578274071216583, 0.10492337495088577, -0.015621526166796684]]\n"
          ]
        }
      ],
      "source": [
        "from langchain_huggingface import HuggingFaceEmbeddings\n",
        "\n",
        "embedding = HuggingFaceEmbeddings(model_name='sentence-transformers/all-MiniLM-L6-v2')\n",
        "\n",
        "documents = [\n",
        "    \"Delhi is the capital of India\",\n",
        "    \"Kolkata is the capital of West Bengal\",\n",
        "    \"Paris is the capital of France\"\n",
        "]\n",
        "\n",
        "vector = embedding.embed_documents(documents)\n",
        "\n",
        "print(str(vector))"
      ]
    },
    {
      "cell_type": "markdown",
      "metadata": {
        "id": "MF1zYPDhIrxr"
      },
      "source": [
        "#### `Suppress warnings and logs`"
      ]
    },
    {
      "cell_type": "code",
      "execution_count": null,
      "metadata": {
        "colab": {
          "base_uri": "https://localhost:8080/"
        },
        "id": "GMC0xmqeIY-I",
        "outputId": "66ba7dac-a293-4e54-823b-037f793206ed"
      },
      "outputs": [
        {
          "name": "stdout",
          "output_type": "stream",
          "text": [
            "\n",
            "Embedding 1 for document: \"Delhi is the capital of India\"\n",
            "[0.043549541383981705, 0.023877229541540146, -0.045241255313158035, 0.035404957830905914, -0.016651036217808723, -0.06554819643497467, 0.076260045170784, 0.009940397925674915, -0.001963227754458785, -0.027022695168852806, 0.00738556869328022, -0.12068238109350204, 0.0640484169125557, -0.06795034557580948, 0.03638886287808418, -0.0780777707695961, 0.033184148371219635, 0.08175564557313919, 0.07336147874593735, -0.07802221924066544, -0.020921166986227036, 0.03573276475071907, -0.008563303388655186, -0.037455108016729355, 0.00043885112972930074, 0.053464263677597046, 0.005293607711791992, -0.016870398074388504, -0.000413047760957852, 0.0010301906149834394, 0.06669675558805466, 0.004223186522722244, -0.022522566840052605, -0.002101559890434146, -0.055947814136743546, 0.01686999760568142, -0.1295160949230194, 0.06496334075927734, 0.17288093268871307, -0.11778349429368973, 0.03644103556871414, -0.000677512027323246, 0.07786679267883301, -0.028167517855763435, 0.03655537590384483, -0.023698804900050163, -0.02790212444961071, -0.004656855948269367, -0.011188924312591553, -0.02649613469839096, 0.06156330928206444, -0.048177219927310944, -0.07787912338972092, 0.03313848003745079, 0.02449951134622097, 0.04385222867131233, -0.032409247010946274, -0.04225396364927292, -0.004053812008351088, 0.030118506401777267, -0.01364248339086771, 0.043029751628637314, -0.024779796600341797, 0.022215483710169792, 0.0875730887055397, 0.012538780458271503, 0.038281045854091644, -0.015482554212212563, 0.014035405591130257, -0.020649679005146027, 0.016255756840109825, -0.012246188707649708, 0.02638865076005459, 0.01704891212284565, -0.012853015214204788, -0.07506397366523743, -0.03262092545628548, 0.07490301132202148, 0.014196847565472126, 0.03280464932322502, -0.01816450245678425, 0.028512436896562576, 0.028033340349793434, 0.08259157091379166, -0.09775902330875397, 0.008714078925549984, -0.04082169011235237, -0.01606968231499195, -0.0035580205731093884, -0.04325287044048309, 0.06346108764410019, 0.07535665482282639, -0.06780531257390976, 0.0011726041557267308, -0.06065615266561508, -0.035546790808439255, -0.07726342976093292, 0.049065664410591125, -0.01873236894607544, 0.023686159402132034, 0.02215038798749447, -0.029883775860071182, -0.09658297151327133, 0.015421693213284016, -0.051165513694286346, -0.07261940091848373, 0.0553908534348011, -0.07977937906980515, 0.007415558211505413, -0.015443813055753708, -0.05476999655365944, 0.012057463638484478, -0.048711374402046204, -0.04038207605481148, -0.0003923961194232106, 0.018431853502988815, 0.01827819086611271, -0.011221233755350113, -0.02124432660639286, -0.02254820056259632, -0.07889121025800705, 0.023742057383060455, -0.01836337335407734, -0.0690629631280899, -0.06974615901708603, -0.1075616106390953, -0.03640320897102356, -6.297900532994475e-33, -0.10432390868663788, -0.030779317021369934, 0.0778890922665596, 0.06358230113983154, -0.0018615768058225513, 0.039968594908714294, 0.057966191321611404, -0.08833266794681549, -0.0035982532426714897, -0.06283364444971085, 0.01078797411173582, -0.14935792982578278, -0.008195623755455017, -0.10685470700263977, 0.0856679305434227, 0.023375628516077995, 0.021146230399608612, -0.0031016606371849775, -0.010256240144371986, 0.008449815213680267, -0.028259269893169403, -0.019984189420938492, 0.006321839056909084, -0.060975804924964905, 0.061109140515327454, -0.02171214483678341, 0.0465342253446579, 0.053876761347055435, 0.053162503987550735, 0.019443286582827568, 0.025639237836003304, 0.0882863700389862, -0.016172325238585472, 0.027486372739076614, 0.009730429388582706, 0.002538608852773905, 0.01886855624616146, 0.024688508361577988, 0.0028549227863550186, 0.017087124288082123, -0.05583006888628006, 0.044804636389017105, -0.027243992313742638, -0.021476704627275467, -0.0016898714238777757, 0.08229093253612518, -0.020781198516488075, 0.05805094540119171, 0.020494626834988594, -0.004589486867189407, 0.0021169709507375956, 0.018269741907715797, -0.012833992950618267, -0.037735164165496826, 0.0213868860155344, 0.12983769178390503, 0.009614361450076103, -0.03126172348856926, -0.011256339959800243, 0.13702881336212158, -0.017451219260692596, -0.05822715163230896, -0.07062973827123642, -0.005591655150055885, 0.055336132645606995, 0.1484779268503189, 0.012927677482366562, -0.05702589079737663, 0.07107026129961014, 0.05155337229371071, -0.023908572271466255, -0.03569602221250534, -0.039489008486270905, 0.07583913952112198, -0.0640273168683052, 0.07680173218250275, -0.010937003418803215, 0.014613480307161808, -0.0704585537314415, -0.007670213934034109, -0.005123624578118324, 0.03614874184131622, 0.01019283477216959, -0.049633193761110306, 0.11274445801973343, -0.08476675301790237, -0.10959210991859436, -0.03461671993136406, 0.05666520074009895, -0.0434303805232048, 0.02793698012828827, -0.09202231466770172, -0.034788090735673904, 0.06254851073026657, -0.06208035722374916, 2.35878167817755e-33, 0.03315328061580658, -0.00970531813800335, -0.11694280803203583, 0.013170943595468998, -0.043500691652297974, 0.0019074567826464772, 0.009509054943919182, -0.024365229532122612, 0.0492241270840168, 0.12387912720441818, -0.007120685651898384, 0.06953427195549011, -0.052982307970523834, 0.07971493899822235, 0.02929200604557991, 0.023551762104034424, 0.042614907026290894, 0.035650573670864105, -0.05497942492365837, -0.04622749611735344, -0.04286494106054306, 0.045723505318164825, -0.04948367550969124, -0.0765295922756195, -0.07786132395267487, 0.026709450408816338, -0.12376544624567032, 0.05890468880534172, 0.014551639556884766, -0.028052952140569687, 0.029367728158831596, -0.08261469751596451, -0.0033682547509670258, 0.0482906736433506, -0.020214905962347984, -0.008408843539655209, 0.10988890379667282, -0.013597354292869568, 0.05319029837846756, 0.013518037274479866, -0.05700979381799698, 0.07172369211912155, 0.07408221065998077, 0.023345649242401123, 0.04269338771700859, -0.08243817090988159, 0.05591724067926407, 0.013477620668709278, -0.05538996681571007, 0.019585058093070984, -0.02629038877785206, -0.12718656659126282, 0.04553457349538803, -0.02463926188647747, -0.02691623568534851, 0.013093676418066025, -0.01396043598651886, 0.06244925037026405, 0.03771144896745682, -0.10924801975488663, 0.05280297249555588, 0.01538008451461792, -0.01584039442241192, 0.09190792590379715, -0.07513979077339172, 0.0031826647464185953, 0.0032801227644085884, -0.010955489240586758, 0.05155452713370323, -0.023821720853447914, 0.02452484890818596, 0.013977077789604664, -0.10196378082036972, 0.014859708026051521, -0.03090798482298851, 0.05976179987192154, 0.07197421789169312, 0.03206149861216545, 0.0341111496090889, -0.008638251572847366, 0.026070939376950264, 0.08731300383806229, 0.020026449114084244, -0.06547277420759201, -0.01361310575157404, 0.039948415011167526, 0.05586397647857666, 0.010475461371243, 0.026641227304935455, -0.028239378705620766, 0.0007876522140577435, 0.017443254590034485, 0.002430039457976818, 0.011373111978173256, -0.0005506660672836006, -1.6926859913724002e-08, -0.028947440907359123, -0.04502138867974281, -0.09074927866458893, 0.059727128595113754, -0.005693197716027498, -0.02952832356095314, 0.010947175323963165, -0.04492630437016487, 0.05865320935845375, -0.018177151679992676, -0.026116376742720604, -0.03040999174118042, -0.059803690761327744, -0.013380594551563263, -0.08792952448129654, 0.007009423803538084, -0.042765308171510696, -0.005255583673715591, 0.0061268312856554985, -0.027342144399881363, -0.0002302090433659032, 0.009053400717675686, 0.02797851711511612, 0.023142913356423378, 0.06016794592142105, -0.06839422136545181, 0.02354595623910427, 0.021900564432144165, -0.006451992318034172, 0.056741200387477875, -0.0408407561480999, 0.009814699180424213, 0.002463240409269929, -0.06575261801481247, 0.024814801290631294, -0.00852595828473568, 0.06171787902712822, -0.036213163286447525, 0.05954654514789581, 0.05812807008624077, 0.007013541180640459, 0.004276243504136801, 0.0777934193611145, -0.016137732192873955, 0.044252026826143265, 0.01980881579220295, 0.06398855894804001, -0.04442450404167175, 0.03195621445775032, -0.09261336177587509, -0.11607382446527481, -0.0008846053387969732, 0.00438464293256402, -0.03225354850292206, -0.03854331746697426, 0.00911378301680088, -0.07360237836837769, 0.03120819665491581, -0.03782742843031883, -0.011497911997139454, 0.03067941777408123, 0.02599499374628067, 0.047101229429244995, 0.048659201711416245]\n",
            "\n",
            "Embedding 2 for document: \"Kolkata is the capital of West Bengal\"\n",
            "[0.0733809694647789, 0.04375029355287552, -0.01972256787121296, 0.05596863105893135, -0.042110178619623184, -0.01938985288143158, 0.043719202280044556, -0.0006525368080474436, -0.057243626564741135, -0.04870808497071266, -0.05982627719640732, -0.14105653762817383, 0.03352632746100426, 0.03698158264160156, 0.012879155576229095, 0.053111687302589417, 0.01593012735247612, -0.02632829174399376, 0.012985232286155224, -0.09993200749158859, -0.051461584866046906, 0.03651757910847664, -0.01992260105907917, -0.013622810132801533, -0.050252508372068405, -0.05346815288066864, 0.003806231776252389, -0.057522471994161606, 0.03327301889657974, 0.024501945823431015, -0.047923870384693146, -0.08839967101812363, 0.01147873979061842, 0.06870561093091965, -0.018352173268795013, -0.09402696043252945, -0.007975077256560326, 0.02336016669869423, 0.06565038114786148, -0.055476706475019455, 0.010915013030171394, 0.0994219109416008, -0.07137847691774368, 0.03639983758330345, 0.08021093159914017, 0.01592530682682991, 0.05320088192820549, 0.009380905888974667, -0.01222408190369606, -0.04716125503182411, 0.056994616985321045, -0.03444364294409752, -0.059192825108766556, 0.05213373899459839, -0.013063114136457443, -0.03035244159400463, -0.03503788262605667, 0.013349737972021103, -0.008897550404071808, 0.025019092485308647, 0.0506427064538002, 0.07401967793703079, -0.0012987679801881313, -0.06167493015527725, 0.07990535348653793, 0.03747684136033058, 0.015725305303931236, 0.05571451410651207, 0.06958507746458054, -0.08429747819900513, 0.017863843590021133, -0.06974560022354126, -0.0488215796649456, -0.03907055780291557, -0.0380188524723053, -0.11036678403615952, -0.04355194792151451, 0.09551721066236496, -0.060859981924295425, 0.03449928015470505, 0.020562367513775826, -0.023565564304590225, 0.06402144581079483, 0.025081785395741463, 0.014668540097773075, -0.005941577721387148, -0.09520715475082397, -0.04810574650764465, -0.008892152458429337, -0.031473785638809204, 0.016581514850258827, -0.09593014419078827, -0.060380950570106506, 0.020149797201156616, 0.007206807378679514, 0.013610685244202614, -0.008054031990468502, -0.048915743827819824, 0.0028958471957594156, 0.03679880499839783, -0.06953216344118118, -0.009626314043998718, -0.025906870141625404, -0.013619844801723957, -0.03038099594414234, 0.006319505162537098, 0.07655857503414154, -0.06805554032325745, -0.07288619130849838, -0.06547345221042633, -0.05600777640938759, 0.03974651172757149, 0.03272729367017746, 0.050304610282182693, 0.02635631151497364, -0.038220565766096115, 0.020783692598342896, 0.030079321935772896, -0.01108576450496912, 0.031826265156269073, -0.02571728825569153, 0.04492547735571861, -0.014320637099444866, -0.037084367126226425, -0.05550568550825119, -0.12702617049217224, 0.0052725751884281635, -4.597551260607898e-33, 0.017236074432730675, -0.025055289268493652, 0.10020416975021362, 0.017221013084053993, 0.019657736644148827, -0.005448100622743368, 0.004778589587658644, -0.032025549560785294, 0.00646315747871995, -0.03136708587408066, 0.05296778306365013, -0.11369160562753677, 0.08538073301315308, -0.11327893286943436, 0.03642578795552254, 0.014377472922205925, 0.0042483191937208176, 0.08080210536718369, 0.028370684012770653, 0.012392234057188034, -0.04457874596118927, -0.026918692514300346, -0.04895300045609474, -0.029981546103954315, -0.013377200812101364, 0.05210910364985466, 0.029663478955626488, 0.08276019245386124, 0.0397171787917614, 0.040552422404289246, 0.02208453044295311, 0.028042858466506004, -0.005812858697026968, 0.039657749235630035, -0.04500673711299896, 0.04908175766468048, -0.04170455038547516, -0.017055682837963104, -0.0205214936286211, -0.0443294495344162, 0.07302585989236832, 0.025247199460864067, -0.08520708233118057, 0.045695044100284576, 0.01018692459911108, 0.03587854281067848, -0.03263445571064949, 0.019044341519474983, -0.025453248992562294, 0.02354246750473976, -0.07252700626850128, -0.028148524463176727, -0.07234220206737518, -0.020920734852552414, 0.03935842216014862, 0.062395840883255005, 0.07404984533786774, 0.007297370117157698, 0.06954855471849442, 0.08936363458633423, 0.028782086446881294, -0.07938526570796967, -0.1346014440059662, -0.03739718347787857, 0.05167846754193306, 0.028566278517246246, 0.0019202291732653975, 0.03573611006140709, -0.044559065252542496, 0.013712029904127121, 0.009800538420677185, -0.011572066694498062, 0.02600306086242199, 0.09610581398010254, -0.04594467580318451, 0.03150688484311104, 0.013566252775490284, 0.03958817571401596, -0.05799594894051552, 0.038233641535043716, -0.01747419498860836, 0.01806667074561119, -0.03114224597811699, -0.07536807656288147, 0.12332659959793091, -0.05363673344254494, -0.04171915352344513, -0.06314931064844131, -0.008646436966955662, 0.006259155925363302, -0.08206581324338913, -0.0005403741379268467, 0.05239668861031532, 0.08239272981882095, -0.05423875153064728, 2.6539393097904027e-33, 0.0352550633251667, -0.040169693529605865, -0.05847662314772606, -0.04386419802904129, -0.038235943764448166, 0.0043693725019693375, -0.017551960423588753, -0.02225557714700699, 0.03848280757665634, 0.07123640924692154, 0.024359235540032387, 0.0007742804591543972, -0.04130944609642029, 0.06403158605098724, 0.03801961615681648, 0.05453374236822128, 0.05519052594900131, 0.036830052733421326, -0.04058072343468666, -0.01614706963300705, -0.06581199914216995, 0.026327837258577347, -0.029754413291811943, -0.047317735850811005, -0.03944320231676102, 0.017968885600566864, -0.12744535505771637, 0.1090773195028305, 0.011055698618292809, 0.0739278718829155, 0.03609098866581917, -0.10029656440019608, -0.0050249844789505005, 0.0705297514796257, -0.08165409415960312, 0.00453732255846262, 0.04695870354771614, -0.03998478129506111, 0.1001836284995079, 0.06266146898269653, -0.034421082586050034, 0.05932905152440071, -0.026899317279458046, 0.00795038603246212, 0.06405322998762131, 0.08518349379301071, 0.05795247107744217, -0.054861098527908325, 0.044314976781606674, -0.0655752643942833, 0.1217927411198616, -0.08877664804458618, -0.0013523701345548034, -0.021644778549671173, -0.02950865402817726, 0.043823715299367905, -0.031846094876527786, 0.10242011398077011, -0.012777404859662056, -0.08593742549419403, 0.06469132006168365, 0.007547370158135891, 0.030767984688282013, 0.06462978571653366, -0.09525246173143387, -0.033913932740688324, 0.041891150176525116, 0.03123427927494049, 0.07161378860473633, -0.08540765941143036, -0.0032081203535199165, 0.015471765771508217, 0.04157751053571701, 0.08203090727329254, -0.07389179617166519, 0.03279057517647743, 0.058109965175390244, 0.00864272378385067, -0.022818269208073616, 0.005899233277887106, -0.035387542098760605, 0.0693632960319519, 0.005976351443678141, -0.02945917658507824, 0.008695363998413086, 0.01805676333606243, -0.01458546333014965, 0.06184354051947594, 0.04628809913992882, -0.022629188373684883, -0.019489843398332596, 0.05750367045402527, 0.0407075509428978, 0.05034986510872841, 0.07449133694171906, -1.5570476463722116e-08, -0.0006209449493326247, -0.05641758441925049, -0.052906498312950134, 0.09825992584228516, -0.07020488381385803, 0.015038798563182354, -0.042829323559999466, -0.014540372416377068, -0.08009660989046097, -0.054106928408145905, -0.01096406765282154, -0.027229811996221542, -0.08008818328380585, -0.014262335374951363, -0.05396644398570061, -0.03270895034074783, -0.008047602139413357, -0.014032630249857903, 0.07579826563596725, -0.026619648560881615, 0.06497042626142502, 0.05791185423731804, 0.08469584584236145, 0.00023831114231143147, 0.0013590765884146094, -0.04732779785990715, -0.002699072239920497, -0.0477030985057354, -0.050127219408750534, -0.035992443561553955, 0.058846309781074524, 0.048318956047296524, 0.009917767718434334, 0.030624927952885628, -0.046543318778276443, -0.052768588066101074, 0.06433496624231339, 0.0006713459151796997, 0.0019497497705742717, 0.08358925580978394, 0.05922360345721245, 0.010642614215612411, 0.02423214353621006, 0.00440787710249424, 0.051178041845560074, 0.03296142816543579, 0.06070816516876221, 0.03158275783061981, -0.009850331582129002, -0.13495147228240967, 0.044207461178302765, -0.03833887353539467, 0.037138815969228745, -0.020772656425833702, -0.01680177077651024, 0.06284680962562561, -0.11363165825605392, -0.03916400671005249, -0.020871736109256744, 0.011930558830499649, 0.025069264695048332, 0.007908083498477936, 0.028160855174064636, 0.016306273639202118]\n",
            "\n",
            "Embedding 3 for document: \"Paris is the capital of France\"\n",
            "[0.09750019758939743, 0.03246024623513222, 0.027851896360516548, -0.04311516508460045, 0.07592961937189102, -0.05266818776726723, 0.010422696359455585, -0.009475366212427616, 0.029920514672994614, 0.02712409943342209, -0.019010411575436592, -0.08242757618427277, 0.007861067540943623, -0.06661424040794373, -0.04055479168891907, -0.12313028424978256, -0.017501695081591606, -0.005959411151707172, 0.041603654623031616, 0.01570218987762928, -0.014666562899947166, -0.03463931754231453, 0.05559864640235901, 0.0035235369578003883, -0.05394745245575905, -0.0013527722330763936, -0.07142456620931625, -0.020476084202528, -0.017362678423523903, 0.007123904302716255, 0.0727049857378006, -0.03645298629999161, -0.05510403588414192, -0.008486981503665447, -0.03714604675769806, -0.03750383481383324, 0.0022262844722718, -0.02160087786614895, 0.02517818659543991, 0.05008619278669357, -0.0051891133189201355, -0.03841879218816757, -0.055113859474658966, -0.026030395179986954, -0.01691771298646927, 0.026591675356030464, 0.012007031589746475, 0.04102597013115883, 0.03422677144408226, -0.08888014405965805, 0.06409823894500732, 0.03182482346892357, -0.03894472122192383, -0.03747435659170151, -0.03772645816206932, 0.09660403430461884, 0.03931313753128052, 0.017008831724524498, -0.008071991614997387, 0.08101215958595276, -0.007653973530977964, -0.038503870368003845, -0.015341024845838547, 0.038020990788936615, 0.09241940826177597, 0.022786470130085945, 0.017822064459323883, 0.017679495736956596, -0.09832372516393661, 0.06413233280181885, -0.04395497590303421, 0.005706082098186016, -0.001782538602128625, -0.04013213515281677, 0.08891859650611877, -0.02347872219979763, -0.09861567616462708, 0.05145274102687836, 0.011284394189715385, 0.025046149268746376, 0.0341775082051754, -0.06257490068674088, 0.025556357577443123, 0.009173445403575897, 0.017681121826171875, -0.008509146049618721, 0.07972069829702377, 0.031122179701924324, 0.04460461437702179, -0.04837905615568161, -0.05162089318037033, 0.04127348214387894, -0.047199077904224396, 0.0780557245016098, -0.12300791591405869, 0.053674615919589996, -0.034544821828603745, 0.026865467429161072, -0.05568823590874672, 0.02102481946349144, -0.04536312073469162, 0.002856505336239934, 0.07600996643304825, -0.061648327857255936, -0.0015581561019644141, 0.03772692009806633, -0.0006223866366781294, -0.03830075263977051, -0.02541464939713478, -0.057029567658901215, -0.08402205258607864, -0.035114843398332596, 0.03315163031220436, -0.015314055606722832, 0.024783603847026825, 0.04831700772047043, -0.02983405441045761, -0.11480750888586044, 0.010456245392560959, -0.07242631912231445, -0.03496832773089409, -0.04477976635098457, -0.01714378595352173, 0.0190237108618021, -0.05096718668937683, -0.02652519941329956, -0.03681136295199394, -7.23385999184589e-33, -0.02411925047636032, 0.08793599158525467, 0.04816270247101784, 0.015314790420234203, -0.033417489379644394, -0.001415165956132114, -0.059492792934179306, 0.053895894438028336, 0.011504373513162136, -0.009766238741576672, 0.04371887072920799, -0.13570642471313477, -0.05763384699821472, 0.07298751920461655, 0.06827746331691742, -0.013547789305448532, 0.14287887513637543, 0.07012210041284561, -0.026134047657251358, 0.006693855859339237, 0.03793611004948616, -0.04647305607795715, 0.008346974849700928, 0.01669725775718689, 0.07696304470300674, 0.040703389793634415, -0.026933616027235985, 0.10522886365652084, -0.014680962078273296, -0.027336686849594116, -0.030483905225992203, 0.04500717297196388, 0.0715201273560524, 0.019133174791932106, 0.022325245663523674, 0.028770677745342255, 0.029868541285395622, 0.023911185562610626, 0.04461021348834038, 0.0860365480184555, 0.060813337564468384, -0.046945132315158844, -0.00924339983612299, -0.004604512359946966, 0.005640774965286255, 0.029984034597873688, -0.024359608069062233, -0.06699573993682861, 0.08266837894916534, 0.0009502889006398618, -0.007947630248963833, -0.06508073210716248, -0.05451230704784393, -0.003766509937122464, 0.043020885437726974, 0.1017753854393959, -0.10832390189170837, -0.014153320342302322, -0.006418770179152489, -0.0121585913002491, -0.0035794125869870186, 0.011857154779136181, -0.04655410349369049, 0.06980254501104355, 0.036067791283130646, 0.0823119729757309, 0.03231140598654747, 0.022317448630928993, 0.006964769680052996, -0.05361306294798851, -0.07385286688804626, 0.021807873621582985, 0.0740860104560852, 0.04691200703382492, 0.06916088610887527, 0.08501521497964859, -0.02510799653828144, 0.026358677074313164, -0.0434187576174736, -0.0018668889533728361, 0.009470542892813683, -0.04920633137226105, -0.07742223888635635, 0.01809612475335598, -0.010733087547123432, -0.03527989611029625, 0.022300371900200844, 0.011091993190348148, -0.0015160854673013091, -0.04909330606460571, -0.07014817744493484, -0.13818350434303284, -0.02455051615834236, -0.03722283989191055, -0.09151183813810349, 2.8484540538217285e-33, 0.039768192917108536, 0.048110634088516235, -0.07528635114431381, 0.004480571486055851, 0.031921420246362686, 0.06593257188796997, 0.08179233223199844, -0.03504986688494682, -0.017066609114408493, 0.01955101266503334, -0.08090865612030029, -0.14492347836494446, 0.007872359827160835, -0.048017941415309906, 0.02370538003742695, 0.03803762048482895, 0.01166688371449709, -0.06690751761198044, -0.030141036957502365, -0.00969636719673872, -0.07820112258195877, -0.00033152199466712773, -0.042571160942316055, 0.011711938306689262, -0.02810087986290455, -0.009839648380875587, -0.0516790896654129, -0.023696938529610634, 0.0012333050835877657, -0.030606361106038094, -0.04674370586872101, 0.025385325774550438, 0.05928780883550644, 0.12367940694093704, 0.025766095146536827, 0.07143562287092209, 0.03525013104081154, 0.0039978004060685635, 0.02617054432630539, 0.015514282509684563, -0.0646539255976677, -0.02926887758076191, 0.032919611781835556, -0.0005349398707039654, 0.06109881028532982, 0.024039043113589287, 0.026577522978186607, -0.05413295701146126, -0.00671001011505723, 0.07853217422962189, 0.037519004195928574, 0.03776641562581062, -0.056429844349622726, -0.04478176310658455, -0.00642308359965682, 0.06561771035194397, -0.008200166746973991, 0.03263714537024498, -0.07471641153097153, -0.0513809472322464, 0.043923892080783844, 0.03792642802000046, -0.025052985176444054, 0.08895419538021088, -0.015044169500470161, -0.09369546920061111, -0.093439020216465, 0.03315242752432823, 0.004311130847781897, 0.03881445899605751, 0.09934592992067337, 0.02130315825343132, -0.047673940658569336, 0.07239885628223419, -0.05015014111995697, -0.007059916853904724, 0.050100453197956085, 0.025015050545334816, -0.00597784947603941, 0.025931475684046745, -0.04994155839085579, 0.028894782066345215, -0.010273758322000504, -0.007939904928207397, -0.03872230648994446, 0.04232664406299591, -0.05048924684524536, -0.0657348483800888, 0.060365088284015656, -0.11307866126298904, 0.006199819501489401, -0.027158331125974655, -0.04914415627717972, -0.02705954574048519, 0.03873962536454201, -1.722580478258351e-08, 0.08123500645160675, 0.03117680549621582, -0.01947403885424137, 0.017069105058908463, -0.05623090639710426, -0.12709425389766693, 0.059762123972177505, -0.003933403175324202, -0.02315262146294117, -0.04770532250404358, -0.08395988494157791, 0.06567011773586273, -0.04958014190196991, -0.05832529067993164, -0.06313560903072357, -0.01668090932071209, -0.018607094883918762, -0.012245548889040947, 0.030501611530780792, 0.07825181633234024, 0.019831480458378792, 0.023285970091819763, -0.05428851395845413, -0.05248044803738594, 0.06021730601787567, -0.09916423261165619, 0.015635155141353607, 0.02836698293685913, -0.043872229754924774, 0.03356917202472687, 0.057130202651023865, -0.058664754033088684, -0.03131329268217087, -0.08036179840564728, 0.035683367401361465, 0.013217994943261147, 0.047506000846624374, 0.014792168512940407, 0.0006168674444779754, 0.00477118045091629, 0.10492146015167236, 0.02047593519091606, 0.009749891236424446, -0.029814526438713074, 0.02845858596265316, 0.037399016320705414, 0.08896329998970032, -0.06447496265172958, 0.14279989898204803, -0.029257284477353096, -0.07778836041688919, 0.07973591983318329, -0.033467743545770645, -0.022703690454363823, -0.030137788504362106, 0.04189895838499069, -0.09851322323083878, 0.014647413976490498, 0.046361081302165985, -0.037260886281728745, -0.01032197941094637, 0.06578274071216583, 0.10492337495088577, -0.015621526166796684]\n"
          ]
        }
      ],
      "source": [
        "import warnings\n",
        "import logging\n",
        "\n",
        "warnings.filterwarnings(\"ignore\")\n",
        "logging.getLogger(\"huggingface_hub\").setLevel(logging.ERROR)\n",
        "\n",
        "\n",
        "from langchain_huggingface import HuggingFaceEmbeddings\n",
        "\n",
        "\n",
        "# Initialize embedding model\n",
        "embedding = HuggingFaceEmbeddings(model_name='sentence-transformers/all-MiniLM-L6-v2')\n",
        "\n",
        "# List of documents\n",
        "documents = [\n",
        "    \"Delhi is the capital of India\",\n",
        "    \"Kolkata is the capital of West Bengal\",\n",
        "    \"Paris is the capital of France\"\n",
        "]\n",
        "\n",
        "# Generate embeddings\n",
        "vectors = embedding.embed_documents(documents)\n",
        "\n",
        "# Print clean embeddings\n",
        "for i, (doc, vec) in enumerate(zip(documents, vectors), 1):\n",
        "    print(f\"\\nEmbedding {i} for document: \\\"{doc}\\\"\")\n",
        "    print(vec)"
      ]
    },
    {
      "cell_type": "markdown",
      "metadata": {
        "id": "t2c3O5iHHk6E"
      },
      "source": [
        "### 🔷 **d) Embedding HuggingFace** `Local`"
      ]
    },
    {
      "cell_type": "markdown",
      "metadata": {
        "id": "h0JKuZh-JAlG"
      },
      "source": [
        "#### **DocumentS Similarity**"
      ]
    },
    {
      "cell_type": "markdown",
      "metadata": {
        "id": "jBCrHKCpJ0oX"
      },
      "source": [
        "```python\n",
        "from langchain_openai import OpenAIEmbeddings\n",
        "from dotenv import load_dotenv\n",
        "from sklearn.metrics.pairwise import cosine_similarity\n",
        "import numpy as np\n",
        "\n",
        "load_dotenv()\n",
        "\n",
        "embedding = OpenAIEmbeddings(model='text-embedding-3-large', dimensions=300)\n",
        "\n",
        "documents = [\n",
        "    \"Virat Kohli is an Indian cricketer known for his aggressive batting and leadership.\",\n",
        "    \"MS Dhoni is a former Indian captain famous for his calm demeanor and finishing skills.\",\n",
        "    \"Sachin Tendulkar, also known as the 'God of Cricket', holds many batting records.\",\n",
        "    \"Rohit Sharma is known for his elegant batting and record-breaking double centuries.\",\n",
        "    \"Jasprit Bumrah is an Indian fast bowler known for his unorthodox action and yorkers.\"\n",
        "]\n",
        "\n",
        "query = 'tell me about bumrah'\n",
        "\n",
        "doc_embeddings = embedding.embed_documents(documents)\n",
        "query_embedding = embedding.embed_query(query)\n",
        "\n",
        "scores = cosine_similarity([query_embedding], doc_embeddings)[0]\n",
        "\n",
        "index, score = sorted(list(enumerate(scores)),key=lambda x:x[1])[-1]\n",
        "\n",
        "print(query)\n",
        "print(documents[index])\n",
        "print(\"similarity score is:\", score)\n",
        "```"
      ]
    },
    {
      "cell_type": "code",
      "execution_count": null,
      "metadata": {
        "colab": {
          "base_uri": "https://localhost:8080/"
        },
        "id": "mTjUKL0AJQbp",
        "outputId": "794a9dd2-905a-4fbe-d52e-57eb50ddf3f6"
      },
      "outputs": [
        {
          "name": "stdout",
          "output_type": "stream",
          "text": [
            "Tell me about former Indian captain\n",
            "[0.48681861 0.50402897 0.62391141 0.50845823 0.40194414]\n",
            "MS Dhoni is a former Indian captain famous for his calm demeanor and finishing skills.\n",
            "2 0.6239114115757457\n",
            "[(4, np.float64(0.4019441380746557)), (0, np.float64(0.4868186055033621)), (1, np.float64(0.5040289703284164)), (3, np.float64(0.5084582309691533)), (2, np.float64(0.6239114115757457))]\n",
            "similarity score is: 0.6239114115757457\n"
          ]
        }
      ],
      "source": [
        "import warnings\n",
        "import logging\n",
        "\n",
        "warnings.filterwarnings(\"ignore\")\n",
        "logging.getLogger(\"huggingface_hub\").setLevel(logging.ERROR)\n",
        "\n",
        "##---------------------------------------------------------\n",
        "from langchain_huggingface import HuggingFaceEmbeddings\n",
        "from sklearn.metrics.pairwise import cosine_similarity\n",
        "import numpy as np\n",
        "\n",
        "# Initialize embedding model\n",
        "embedding = HuggingFaceEmbeddings(model_name='sentence-transformers/all-MiniLM-L6-v2')\n",
        "\n",
        "# List of documents\n",
        "documents = [\n",
        "    \"Virat Kohli is an Indian cricketer known for his aggressive batting and leadership.\",\n",
        "    \"Sachin Tendulkar, also known as the 'God of Cricket', holds many batting records.\",\n",
        "    \"MS Dhoni is a former Indian captain famous for his calm demeanor and finishing skills.\",\n",
        "    \"Rohit Sharma is known for his elegant batting and record-breaking double centuries.\",\n",
        "    \"Jasprit Bumrah is an Indian fast bowler known for his unorthodox action and yorkers.\"\n",
        "]\n",
        "\n",
        "\n",
        "# query = 'Tell me about bumrah?'\n",
        "# query = 'Tell me about Dhoni?'\n",
        "query = 'Tell me about former Indian captain'\n",
        "\n",
        "doc_embeddings = embedding.embed_documents(documents)\n",
        "query_embedding = embedding.embed_query(query)\n",
        "\n",
        "# For cosine similarity both the valuse are need to be 2D lists\n",
        "# we convert the query Embedding to 2D list\n",
        "scores = cosine_similarity([query_embedding], doc_embeddings)[0] # Output-> 2D list but we need simple vetor...\n",
        "                                                                 # hence `[0]` ->>> shape (1, num_docs) => [0] => # shape (num_docs,)\n",
        "\n",
        "index, score = sorted(list(enumerate(scores)), key=lambda x:x[1])[-1] # Sorts list by the second item in each tuple, i.e., the score:\n",
        "\n",
        "print(query)\n",
        "print(scores)\n",
        "print(documents[index])\n",
        "print(index, score)\n",
        "print(sorted(list(enumerate(scores)),key=lambda x:x[1]))\n",
        "print(\"similarity score is:\", score)"
      ]
    }
  ],
  "metadata": {
    "colab": {
      "collapsed_sections": [
        "A-na9z83Br_h",
        "faNC4FvyYsvF"
      ],
      "provenance": [],
      "toc_visible": true
    },
    "kernelspec": {
      "display_name": "venv",
      "language": "python",
      "name": "python3"
    },
    "language_info": {
      "codemirror_mode": {
        "name": "ipython",
        "version": 3
      },
      "file_extension": ".py",
      "mimetype": "text/x-python",
      "name": "python",
      "nbconvert_exporter": "python",
      "pygments_lexer": "ipython3",
      "version": "3.11.9"
    }
  },
  "nbformat": 4,
  "nbformat_minor": 0
}
